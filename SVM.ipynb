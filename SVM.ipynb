{
 "cells": [
  {
   "cell_type": "code",
   "execution_count": null,
   "id": "f8b51179-d791-4cf8-9dd4-becb21d7d719",
   "metadata": {},
   "outputs": [],
   "source": []
  },
  {
   "cell_type": "code",
   "execution_count": 1,
   "id": "244e402e-0c92-4b32-980d-b035c068729e",
   "metadata": {},
   "outputs": [
    {
     "name": "stdout",
     "output_type": "stream",
     "text": [
      "Accuracy of SVM after feature selection: 73.33%\n"
     ]
    }
   ],
   "source": [
    "import pandas as pd\n",
    "from sklearn.ensemble import RandomForestClassifier\n",
    "from sklearn.feature_selection import RFE\n",
    "from sklearn.model_selection import train_test_split\n",
    "from sklearn.preprocessing import MinMaxScaler\n",
    "from sklearn.metrics import accuracy_score\n",
    "import numpy as np\n",
    "import pandas as pd\n",
    "from sklearn.svm import SVC\n",
    "from sklearn.model_selection import train_test_split\n",
    "from sklearn.preprocessing import MinMaxScaler\n",
    "import numpy as np\n",
    "from sklearn.metrics import accuracy_score\n",
    "from sklearn.model_selection import GridSearchCV\n",
    "from sklearn.ensemble import RandomForestClassifier\n",
    "\n",
    "# Pobieranie i czyszczenie danych\n",
    "data = pd.read_excel(\"clinical_radiomics_imported_from_tsv2.xlsx\")\n",
    "data_cleaned = data.dropna()\n",
    "data_cleaned = data.copy()  # Tworzenie kopii danych\n",
    "\n",
    "# Obliczenie mediany kolumny OS\n",
    "median_OS = data_cleaned[\"OS\"].median()\n",
    "\n",
    "# Dodanie etykiet\n",
    "data_cleaned[\"label\"] = np.where(data_cleaned[\"OS\"] <= median_OS, 0, 1)\n",
    "\n",
    "# Przygotowanie danych\n",
    "columns_original = list(data_cleaned.loc[:, \"original_shape_Elongation\":\"original_ngtdm_Strength\"])\n",
    "X = data_cleaned[columns_original]\n",
    "y = data_cleaned[\"label\"]\n",
    "\n",
    "# Podział danych na zbiór treningowy i walidacyjny\n",
    "X_train, X_val, y_train, y_val = train_test_split(X, y, test_size=0.2, random_state=42)\n",
    "# Inicjalizacja modelu Random Forest\n",
    "rf = RandomForestClassifier()\n",
    "rf.fit(X_train, y_train)\n",
    "\n",
    "# Skalowanie cech\n",
    "scaler = MinMaxScaler()\n",
    "X_train_scaled = scaler.fit_transform(X_train)\n",
    "\n",
    "# Perform feature selection using RFE\n",
    "rfe = RFE(estimator=rf, n_features_to_select=15)\n",
    "X_train_rfe = rfe.fit_transform(X_train_scaled, y_train)\n",
    "X_val_rfe = X_val[X_train.columns[rfe.support_]]\n",
    "\n",
    "# Fit the SVM model on the selected features\n",
    "svm = SVC()\n",
    "svm.fit(X_train_rfe, y_train)\n",
    "\n",
    "# Predict on the validation set\n",
    "X_val_scaled = scaler.transform(X_val)\n",
    "X_val_rfe = rfe.transform(X_val_scaled)\n",
    "y_val_pred = svm.predict(X_val_rfe)\n",
    "accuracy = accuracy_score(y_val, y_val_pred)\n",
    "print(\"Accuracy of SVM after feature selection: {:.2f}%\".format(accuracy * 100))\n"
   ]
  },
  {
   "cell_type": "code",
   "execution_count": null,
   "id": "4502f7cb-9800-43bb-a10d-03fc02c65f3d",
   "metadata": {},
   "outputs": [],
   "source": [
    "print"
   ]
  },
  {
   "cell_type": "code",
   "execution_count": 2,
   "id": "aea906fc-a7dd-431e-809d-322d75fb3b83",
   "metadata": {},
   "outputs": [
    {
     "name": "stdout",
     "output_type": "stream",
     "text": [
      "Accuracy of SVM after feature selection: 73.33%\n"
     ]
    }
   ],
   "source": [
    "# Define the parameter grid for GridSearchCV\n",
    "param_grid = {\n",
    "    'C': [0.1, 1, 10],\n",
    "    'kernel': ['linear', 'rbf'],\n",
    "    'gamma': ['scale', 'auto']\n",
    "}\n",
    "\n",
    "# Perform grid search with cross-validation\n",
    "grid_search = GridSearchCV(svm, param_grid, cv=5)\n",
    "grid_search.fit(X_train_rfe, y_train)\n",
    "\n",
    "# Get the best hyperparameters and retrain the SVM model\n",
    "best_params = grid_search.best_params_\n",
    "svm = SVC(**best_params)\n",
    "svm.fit(X_train_rfe, y_train)\n",
    "# Predict on the validation set\n",
    "X_val_scaled = scaler.transform(X_val)\n",
    "X_val_rfe = rfe.transform(X_val_scaled)\n",
    "y_val_pred = svm.predict(X_val_rfe)\n",
    "accuracy = accuracy_score(y_val, y_val_pred)\n",
    "print(\"Accuracy of SVM after feature selection: {:.2f}%\".format(accuracy * 100))"
   ]
  },
  {
   "cell_type": "code",
   "execution_count": 3,
   "id": "5b2f95f1-2816-42f9-a417-e331c11c4254",
   "metadata": {},
   "outputs": [
    {
     "name": "stdout",
     "output_type": "stream",
     "text": [
      "Accuracy of SVM after feature selection: 73.33%\n"
     ]
    }
   ],
   "source": [
    "# Define the parameter grid for RandomForestClassifier\n",
    "rf_param_grid = {\n",
    "    'n_estimators': [100, 200, 500],\n",
    "    'max_depth': [None, 5, 10],\n",
    "    'min_samples_split': [2, 5, 10]\n",
    "}\n",
    "\n",
    "# Perform grid search for RandomForestClassifier\n",
    "rf_grid_search = GridSearchCV(rf, rf_param_grid, cv=5)\n",
    "rf_grid_search.fit(X_train, y_train)\n",
    "\n",
    "# Get the best RandomForestClassifier model\n",
    "best_rf_model = rf_grid_search.best_estimator_\n",
    "\n",
    "# Define the parameter grid for SVC\n",
    "svm_param_grid = {\n",
    "    'C': [0.1, 1, 10],\n",
    "    'kernel': ['linear', 'rbf'],\n",
    "    'gamma': ['scale', 'auto']\n",
    "}\n",
    "\n",
    "# Perform grid search for SVC\n",
    "svm_grid_search = GridSearchCV(svm, svm_param_grid, cv=5)\n",
    "svm_grid_search.fit(X_train_rfe, y_train)\n",
    "\n",
    "# Get the best SVC model\n",
    "#best_svm_model = svm_grid_search.best_estimator_\n",
    "# Predict on the validation set\n",
    "X_val_scaled = scaler.transform(X_val)\n",
    "X_val_rfe = rfe.transform(X_val_scaled)\n",
    "y_val_pred = svm.predict(X_val_rfe)\n",
    "accuracy = accuracy_score(y_val, y_val_pred)\n",
    "print(\"Accuracy of SVM after feature selection: {:.2f}%\".format(accuracy * 100))"
   ]
  },
  {
   "cell_type": "code",
   "execution_count": 4,
   "id": "e14e0ced-8115-4226-a2ab-739e1440a06e",
   "metadata": {},
   "outputs": [
    {
     "name": "stdout",
     "output_type": "stream",
     "text": [
      "Dokładność klasyfikatora SVM po optymalizacji: 66.67%\n"
     ]
    }
   ],
   "source": [
    "# Wybór optymalnych cech\n",
    "feature_importance = rf.feature_importances_\n",
    "sorted_indices = np.argsort(feature_importance)[::-1]\n",
    "selected_features = X.columns[sorted_indices[:15]]\n",
    "# Aktualizacja danych treningowych i walidacyjnych\n",
    "X_train_selected = X_train[selected_features]\n",
    "X_val_selected = X_val[selected_features]\n",
    " \n",
    "svm.fit(X_train_selected, y_train)\n",
    "# Ocena modelu na danych walidacyjnych\n",
    "y_val_pred = svm.predict(X_val_selected)\n",
    "accuracy = accuracy_score(y_val, y_val_pred)\n",
    "print(\"Dokładność klasyfikatora SVM po optymalizacji: {:.2f}%\".format(accuracy * 100))"
   ]
  },
  {
   "cell_type": "code",
   "execution_count": 5,
   "id": "69d361d0-5bb1-4ed0-9e2d-027e22bb687b",
   "metadata": {},
   "outputs": [
    {
     "name": "stdout",
     "output_type": "stream",
     "text": [
      "Index(['original_firstorder_RootMeanSquared',\n",
      "       'original_firstorder_10Percentile',\n",
      "       'original_glrlm_RunLengthNonUniformityNormalized',\n",
      "       'original_glrlm_RunEntropy', 'original_glrlm_RunPercentage',\n",
      "       'original_glszm_HighGrayLevelZoneEmphasis',\n",
      "       'original_firstorder_Maximum', 'original_glcm_SumEntropy',\n",
      "       'original_firstorder_InterquartileRange', 'original_firstorder_Mean',\n",
      "       'original_firstorder_Minimum', 'original_glcm_DifferenceAverage',\n",
      "       'original_shape_Elongation', 'original_glcm_Contrast',\n",
      "       'original_glcm_Idmn'],\n",
      "      dtype='object')\n"
     ]
    }
   ],
   "source": [
    "print(selected_features)"
   ]
  },
  {
   "cell_type": "code",
   "execution_count": 6,
   "id": "da67dab7-f5e2-4bbc-88cc-c2fd4afa9503",
   "metadata": {},
   "outputs": [
    {
     "name": "stdout",
     "output_type": "stream",
     "text": [
      "Dokładność klasyfikatora SVM po optymalizacji: 66.67%\n"
     ]
    }
   ],
   "source": [
    "# Define the parameter grid for GridSearchCV\n",
    "param_grid = {\n",
    "    'C': [0.1, 1, 10],\n",
    "    'kernel': ['linear', 'rbf'],\n",
    "    'gamma': ['scale', 'auto']\n",
    "}\n",
    "\n",
    "# Perform grid search with cross-validation\n",
    "grid_search = GridSearchCV(svm, param_grid, cv=5)\n",
    "grid_search.fit(X_train_rfe, y_train)\n",
    "\n",
    "# Get the best hyperparameters and retrain the SVM model\n",
    "best_params = grid_search.best_params_\n",
    "svm = SVC(**best_params)\n",
    "svm.fit(X_train_selected, y_train)\n",
    "# Ocena modelu na danych walidacyjnych\n",
    "y_val_pred = svm.predict(X_val_selected)\n",
    "accuracy = accuracy_score(y_val, y_val_pred)\n",
    "print(\"Dokładność klasyfikatora SVM po optymalizacji: {:.2f}%\".format(accuracy * 100))"
   ]
  },
  {
   "cell_type": "code",
   "execution_count": 7,
   "id": "6fbd5cfa-ab4c-4498-ae39-986c24e37d01",
   "metadata": {},
   "outputs": [
    {
     "ename": "ValueError",
     "evalue": "Found input variables with inconsistent numbers of samples: [15, 59]",
     "output_type": "error",
     "traceback": [
      "\u001b[1;31m---------------------------------------------------------------------------\u001b[0m",
      "\u001b[1;31mValueError\u001b[0m                                Traceback (most recent call last)",
      "Input \u001b[1;32mIn [7]\u001b[0m, in \u001b[0;36m<cell line: 24>\u001b[1;34m()\u001b[0m\n\u001b[0;32m     22\u001b[0m \u001b[38;5;66;03m# Perform grid search for SVC\u001b[39;00m\n\u001b[0;32m     23\u001b[0m svm_grid_search \u001b[38;5;241m=\u001b[39m GridSearchCV(svm, svm_param_grid, cv\u001b[38;5;241m=\u001b[39m\u001b[38;5;241m5\u001b[39m)\n\u001b[1;32m---> 24\u001b[0m \u001b[43msvm_grid_search\u001b[49m\u001b[38;5;241;43m.\u001b[39;49m\u001b[43mfit\u001b[49m\u001b[43m(\u001b[49m\u001b[43mX_val_selected\u001b[49m\u001b[43m,\u001b[49m\u001b[43m \u001b[49m\u001b[43my_train\u001b[49m\u001b[43m)\u001b[49m\n\u001b[0;32m     26\u001b[0m \u001b[38;5;66;03m#svm.fit(X_train_selected, y_train)\u001b[39;00m\n\u001b[0;32m     27\u001b[0m \u001b[38;5;66;03m# Ocena modelu na danych walidacyjnych\u001b[39;00m\n\u001b[0;32m     28\u001b[0m y_val_pred \u001b[38;5;241m=\u001b[39m svm\u001b[38;5;241m.\u001b[39mpredict(X_val_selected)\n",
      "File \u001b[1;32m~\\miniconda3\\envs\\maria_rosiak_ds_env\\lib\\site-packages\\sklearn\\model_selection\\_search.py:799\u001b[0m, in \u001b[0;36mBaseSearchCV.fit\u001b[1;34m(self, X, y, groups, **fit_params)\u001b[0m\n\u001b[0;32m    796\u001b[0m     \u001b[38;5;28mself\u001b[39m\u001b[38;5;241m.\u001b[39m_check_refit_for_multimetric(scorers)\n\u001b[0;32m    797\u001b[0m     refit_metric \u001b[38;5;241m=\u001b[39m \u001b[38;5;28mself\u001b[39m\u001b[38;5;241m.\u001b[39mrefit\n\u001b[1;32m--> 799\u001b[0m X, y, groups \u001b[38;5;241m=\u001b[39m \u001b[43mindexable\u001b[49m\u001b[43m(\u001b[49m\u001b[43mX\u001b[49m\u001b[43m,\u001b[49m\u001b[43m \u001b[49m\u001b[43my\u001b[49m\u001b[43m,\u001b[49m\u001b[43m \u001b[49m\u001b[43mgroups\u001b[49m\u001b[43m)\u001b[49m\n\u001b[0;32m    800\u001b[0m fit_params \u001b[38;5;241m=\u001b[39m _check_fit_params(X, fit_params)\n\u001b[0;32m    802\u001b[0m cv_orig \u001b[38;5;241m=\u001b[39m check_cv(\u001b[38;5;28mself\u001b[39m\u001b[38;5;241m.\u001b[39mcv, y, classifier\u001b[38;5;241m=\u001b[39mis_classifier(estimator))\n",
      "File \u001b[1;32m~\\miniconda3\\envs\\maria_rosiak_ds_env\\lib\\site-packages\\sklearn\\utils\\validation.py:378\u001b[0m, in \u001b[0;36mindexable\u001b[1;34m(*iterables)\u001b[0m\n\u001b[0;32m    359\u001b[0m \u001b[38;5;124;03m\"\"\"Make arrays indexable for cross-validation.\u001b[39;00m\n\u001b[0;32m    360\u001b[0m \n\u001b[0;32m    361\u001b[0m \u001b[38;5;124;03mChecks consistent length, passes through None, and ensures that everything\u001b[39;00m\n\u001b[1;32m   (...)\u001b[0m\n\u001b[0;32m    374\u001b[0m \u001b[38;5;124;03m    sparse matrix, or dataframe) or `None`.\u001b[39;00m\n\u001b[0;32m    375\u001b[0m \u001b[38;5;124;03m\"\"\"\u001b[39;00m\n\u001b[0;32m    377\u001b[0m result \u001b[38;5;241m=\u001b[39m [_make_indexable(X) \u001b[38;5;28;01mfor\u001b[39;00m X \u001b[38;5;129;01min\u001b[39;00m iterables]\n\u001b[1;32m--> 378\u001b[0m \u001b[43mcheck_consistent_length\u001b[49m\u001b[43m(\u001b[49m\u001b[38;5;241;43m*\u001b[39;49m\u001b[43mresult\u001b[49m\u001b[43m)\u001b[49m\n\u001b[0;32m    379\u001b[0m \u001b[38;5;28;01mreturn\u001b[39;00m result\n",
      "File \u001b[1;32m~\\miniconda3\\envs\\maria_rosiak_ds_env\\lib\\site-packages\\sklearn\\utils\\validation.py:332\u001b[0m, in \u001b[0;36mcheck_consistent_length\u001b[1;34m(*arrays)\u001b[0m\n\u001b[0;32m    330\u001b[0m uniques \u001b[38;5;241m=\u001b[39m np\u001b[38;5;241m.\u001b[39munique(lengths)\n\u001b[0;32m    331\u001b[0m \u001b[38;5;28;01mif\u001b[39;00m \u001b[38;5;28mlen\u001b[39m(uniques) \u001b[38;5;241m>\u001b[39m \u001b[38;5;241m1\u001b[39m:\n\u001b[1;32m--> 332\u001b[0m     \u001b[38;5;28;01mraise\u001b[39;00m \u001b[38;5;167;01mValueError\u001b[39;00m(\n\u001b[0;32m    333\u001b[0m         \u001b[38;5;124m\"\u001b[39m\u001b[38;5;124mFound input variables with inconsistent numbers of samples: \u001b[39m\u001b[38;5;132;01m%r\u001b[39;00m\u001b[38;5;124m\"\u001b[39m\n\u001b[0;32m    334\u001b[0m         \u001b[38;5;241m%\u001b[39m [\u001b[38;5;28mint\u001b[39m(l) \u001b[38;5;28;01mfor\u001b[39;00m l \u001b[38;5;129;01min\u001b[39;00m lengths]\n\u001b[0;32m    335\u001b[0m     )\n",
      "\u001b[1;31mValueError\u001b[0m: Found input variables with inconsistent numbers of samples: [15, 59]"
     ]
    }
   ],
   "source": [
    "# Define the parameter grid for RandomForestClassifier\n",
    "rf_param_grid = {\n",
    "    'n_estimators': [100, 200, 500],\n",
    "    'max_depth': [None, 5, 10],\n",
    "    'min_samples_split': [2, 5, 10]\n",
    "}\n",
    "\n",
    "# Perform grid search for RandomForestClassifier\n",
    "rf_grid_search = GridSearchCV(rf, rf_param_grid, cv=5)\n",
    "rf_grid_search.fit(X_train, y_train)\n",
    "\n",
    "# Get the best RandomForestClassifier model\n",
    "best_rf_model = rf_grid_search.best_estimator_\n",
    "\n",
    "# Define the parameter grid for SVC\n",
    "svm_param_grid = {\n",
    "    'C': [0.1, 1, 10],\n",
    "    'kernel': ['linear', 'rbf'],\n",
    "    'gamma': ['scale', 'auto']\n",
    "}\n",
    "\n",
    "# Perform grid search for SVC\n",
    "svm_grid_search = GridSearchCV(svm, svm_param_grid, cv=5)\n",
    "svm_grid_search.fit(X_val_selected, y_train)\n",
    "\n",
    "#svm.fit(X_train_selected, y_train)\n",
    "# Ocena modelu na danych walidacyjnych\n",
    "y_val_pred = svm.predict(X_val_selected)\n",
    "accuracy = accuracy_score(y_val, y_val_pred)\n",
    "print(\"Dokładność klasyfikatora SVM po optymalizacji: {:.2f}%\".format(accuracy * 100))"
   ]
  }
 ],
 "metadata": {
  "kernelspec": {
   "display_name": "Python 3 (ipykernel)",
   "language": "python",
   "name": "python3"
  },
  "language_info": {
   "codemirror_mode": {
    "name": "ipython",
    "version": 3
   },
   "file_extension": ".py",
   "mimetype": "text/x-python",
   "name": "python",
   "nbconvert_exporter": "python",
   "pygments_lexer": "ipython3",
   "version": "3.8.13"
  }
 },
 "nbformat": 4,
 "nbformat_minor": 5
}
