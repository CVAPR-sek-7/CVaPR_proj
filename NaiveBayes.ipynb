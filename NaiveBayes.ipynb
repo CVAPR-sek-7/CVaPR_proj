{
 "cells": [
  {
   "cell_type": "code",
   "execution_count": 2,
   "metadata": {},
   "outputs": [],
   "source": [
    "import pandas as pd\n",
    "from sklearn.linear_model import LogisticRegression\n",
    "from sklearn.feature_selection import SelectKBest\n",
    "from sklearn.feature_selection import mutual_info_classif\n",
    "import numpy as np\n",
    "from sklearn.model_selection import train_test_split\n",
    "from sklearn.model_selection import GridSearchCV\n",
    "from sklearn.metrics import ConfusionMatrixDisplay\n",
    "from sklearn.model_selection import KFold\n",
    "from sklearn.pipeline import Pipeline\n",
    "from sklearn import linear_model, decomposition\n",
    "from sklearn.pipeline import Pipeline\n",
    "from sklearn.model_selection import GridSearchCV\n",
    "from sklearn.preprocessing import StandardScaler\n",
    "from sklearn.utils import resample\n",
    "import warnings\n",
    "warnings.filterwarnings(\"ignore\")"
   ]
  },
  {
   "cell_type": "code",
   "execution_count": 3,
   "metadata": {},
   "outputs": [],
   "source": [
    "radiomic_features_df = pd.read_table('Data\\clinical_radiomics.tsv')"
   ]
  },
  {
   "cell_type": "code",
   "execution_count": 4,
   "metadata": {},
   "outputs": [],
   "source": [
    "#Clean up\n",
    "radiomic_features_df = radiomic_features_df[radiomic_features_df.OS_cens == '0']\n",
    "\n",
    "radiomic_features_df[\"OS_result\"] = radiomic_features_df[\"OS\"] > 2.15 if 'long' else 'short'\n",
    "radiomic_features_df = radiomic_features_df.drop(columns=[\"Image\",\"Mask\",\"type\",\"CT_drugs\",\"Treatment\", \"intent\", \"Metastasis_location\", \n",
    "                                                          \"diagnostics_Versions_PyRadiomics\",\"diagnostics_Versions_Numpy\",\n",
    "                                                          \"diagnostics_Versions_SimpleITK\",\"diagnostics_Versions_PyWavelet\",\n",
    "                                                          \"diagnostics_Versions_Python\",\"diagnostics_Configuration_Settings\",\"diagnostics_Configuration_EnabledImageTypes\",\n",
    "                                                          \"diagnostics_Image.original_Hash\", \"diagnostics_Image.original_Dimensionality\", \"diagnostics_Image.original_Spacing\",\n",
    "                                                          \"diagnostics_Image.original_Minimum\", \"OS_cens\",\"diagnostics_Image.original_Minimum\", \"OS\", \"diagnostics_Mask.original_Hash\",\n",
    "                                                          \"diagnostics_Mask.original_Spacing\", \"diagnostics_Mask.original_BoundingBox\",\t\"diagnostics_Mask.original_VoxelNum\", \"N\",\n",
    "                                                          \"diagnostics_Mask.original_Size\",  \"diagnostics_Image.original_Size\", \"diagnostics_Mask.original_CenterOfMassIndex\",\t\"diagnostics_Mask.original_CenterOfMass\",\n",
    "                                                          \"CT_effect\", \"zubrod_score\", \"T\", \"HT\", \"PLT\", \"RBC\", \"WBC\", \"ID\", \"MFS\",\"MFS_cens\",\"CT_cycles\", \"histopathology\", \"location\",\n",
    "                                                           \"MIP\",\"RT_fractional_dose\", \"HB\"])"
   ]
  },
  {
   "cell_type": "code",
   "execution_count": 5,
   "metadata": {},
   "outputs": [
    {
     "name": "stdout",
     "output_type": "stream",
     "text": [
      "                                   Specs     Score\n",
      "0                                    age -0.702046\n",
      "1                          RT_total_dose  1.951725\n",
      "2        diagnostics_Image.original_Mean -0.702046\n",
      "3     diagnostics_Image.original_Maximum  0.721296\n",
      "4    diagnostics_Mask.original_VolumeNum -0.702046\n",
      "..                                   ...       ...\n",
      "107            original_ngtdm_Complexity -0.157202\n",
      "108              original_ngtdm_Contrast  0.612351\n",
      "109              original_ngtdm_Strength -0.702046\n",
      "110                               FEMALE -0.389556\n",
      "111                                 MALE -0.702046\n",
      "\n",
      "[112 rows x 2 columns]\n"
     ]
    }
   ],
   "source": [
    "X = radiomic_features_df.loc[:,radiomic_features_df.columns != \"OS_result\"]  #independent columns\n",
    "y = radiomic_features_df.loc[:,radiomic_features_df.columns == \"OS_result\"]    #target column i.e price range\n",
    "\n",
    "df1 = pd.get_dummies(X['sex'])\n",
    "X = pd.concat([X, df1], axis=1).reindex(X.index)\n",
    "X.drop('sex', axis=1, inplace=True)\n",
    "std_slc = StandardScaler()\n",
    "\n",
    "y = np.ravel(y)\n",
    "bestfeatures = SelectKBest(score_func=mutual_info_classif, k=15)\n",
    "fit = bestfeatures.fit(X,y)\n",
    "dfscores = pd.DataFrame(fit.scores_)\n",
    "dfcolumns = pd.DataFrame(X.columns)\n",
    "\n",
    "data = pd.DataFrame(std_slc.fit_transform(dfscores), columns=dfscores.columns, index=dfscores.index)\n",
    "featureScores = pd.concat([dfcolumns,data],axis=1)\n",
    "featureScores.columns = ['Specs','Score'] \n",
    "print(featureScores)\n",
    "#featureScores = featureScores. = ['Specs','Score']  #naming the dataframe columns"
   ]
  },
  {
   "cell_type": "code",
   "execution_count": 6,
   "metadata": {},
   "outputs": [
    {
     "name": "stdout",
     "output_type": "stream",
     "text": [
      "32            original_firstorder_RootMeanSquared\n",
      "97            original_gldm_HighGrayLevelEmphasis\n",
      "27                       original_firstorder_Mean\n",
      "21                     original_firstorder_Energy\n",
      "34                original_firstorder_TotalEnergy\n",
      "50                             original_glcm_Imc2\n",
      "37                  original_glcm_Autocorrelation\n",
      "28                     original_firstorder_Median\n",
      "64    original_glrlm_LongRunHighGrayLevelEmphasis\n",
      "1                                   RT_total_dose\n",
      "16                     original_shape_SurfaceArea\n",
      "8                  original_shape_MajorAxisLength\n",
      "72                original_glrlm_ShortRunEmphasis\n",
      "30                      original_firstorder_Range\n",
      "40                     original_glcm_ClusterShade\n",
      "Name: Specs, dtype: object\n"
     ]
    }
   ],
   "source": [
    "features = featureScores.nlargest(15,'Score')['Specs']\n",
    "print(features)\n",
    "five_first_features = X[features [:5]] #first 5 features\n",
    "five_ten_features = X[features [:10]] #first 10 features\n",
    "fifteen_features = X[features] #15 features"
   ]
  },
  {
   "cell_type": "code",
   "execution_count": 7,
   "metadata": {},
   "outputs": [
    {
     "name": "stdout",
     "output_type": "stream",
     "text": [
      "\n",
      "5 features\n",
      "[[0.24678609 0.75321391]\n",
      " [0.97228159 0.02771841]\n",
      " [0.18832219 0.81167781]]\n",
      "0.8861111111111111 {'pca__n_components': 3}\n",
      "[ True False  True False  True False  True False False False False  True\n",
      "  True False False False  True  True False  True  True  True  True False\n",
      "  True False False False False False]\n",
      "\n",
      "\n"
     ]
    },
    {
     "data": {
      "text/plain": [
       "Text(0.5, 1.0, 'Results')"
      ]
     },
     "execution_count": 7,
     "metadata": {},
     "output_type": "execute_result"
    },
    {
     "data": {
      "image/png": "[encoded data removed]",
      "text/plain": [
       "<Figure size 432x288 with 2 Axes>"
      ]
     },
     "metadata": {
      "needs_background": "light"
     },
     "output_type": "display_data"
    }
   ],
   "source": [
    "from sklearn.naive_bayes import GaussianNB\n",
    "from sklearn.model_selection import train_test_split, KFold, GridSearchCV\n",
    "from sklearn.pipeline import Pipeline\n",
    "from sklearn.preprocessing import StandardScaler\n",
    "from sklearn.decomposition import PCA\n",
    "from sklearn.metrics import ConfusionMatrixDisplay\n",
    "import numpy as np\n",
    "\n",
    "print(\"\\n5 features\")\n",
    "X_train, X_test, y_train, y_test = train_test_split(five_first_features, y, test_size=0.4, random_state=0)\n",
    "pca = PCA()\n",
    "std_slc = StandardScaler()\n",
    "model = GaussianNB()  #  Naive Bayes crng\n",
    "pipe = Pipeline(steps=[('std_slc', std_slc),\n",
    "                       ('pca', pca),\n",
    "                       ('naive_bayes', model)])  # naive bayes crng\n",
    "\n",
    "cv = KFold(n_splits=10, shuffle=True)\n",
    "\n",
    "n_components = list(range(1, X.shape[1] + 1, 1))\n",
    "parameters = dict(pca__n_components=n_components)\n",
    "\n",
    "grid_search = GridSearchCV(pipe, parameters)\n",
    "\n",
    "grid_search.fit(X_train, y_train)\n",
    "predicted_probs = grid_search.predict_proba(X_test)\n",
    "print(predicted_probs[0:3])\n",
    "print(grid_search.best_score_, grid_search.best_params_)\n",
    "y_pred = grid_search.predict(X_test)\n",
    "print(y_pred)\n",
    "print('\\n')\n",
    "\n",
    "disp = ConfusionMatrixDisplay.from_predictions(\n",
    "    y_test, y_pred, display_labels=[\"long\", \"short\"]\n",
    ")\n",
    "disp.ax_.set_title(\"Results\")"
   ]
  },
  {
   "cell_type": "code",
   "execution_count": 9,
   "metadata": {},
   "outputs": [
    {
     "name": "stdout",
     "output_type": "stream",
     "text": [
      "\n",
      "5 features\n",
      "[[0.52747083 0.47252917]\n",
      " [0.99758095 0.00241905]\n",
      " [0.56497915 0.43502085]]\n",
      "0.861111111111111 {'pca__n_components': 5}\n",
      "[False False False False False False  True False False False False False\n",
      "  True False False False  True False  True False False False False False\n",
      " False False False False False False]\n",
      "\n",
      "\n"
     ]
    },
    {
     "data": {
      "text/plain": [
       "Text(0.5, 1.0, 'Results')"
      ]
     },
     "execution_count": 9,
     "metadata": {},
     "output_type": "execute_result"
    },
    {
     "data": {
      "image/png": "[encoded data removed]",
      "text/plain": [
       "<Figure size 432x288 with 2 Axes>"
      ]
     },
     "metadata": {
      "needs_background": "light"
     },
     "output_type": "display_data"
    }
   ],
   "source": [
    "from sklearn.naive_bayes import GaussianNB\n",
    "from sklearn.model_selection import train_test_split, KFold, GridSearchCV\n",
    "from sklearn.pipeline import Pipeline\n",
    "from sklearn.preprocessing import StandardScaler\n",
    "from sklearn.decomposition import PCA\n",
    "from sklearn.metrics import ConfusionMatrixDisplay\n",
    "import numpy as np\n",
    "\n",
    "print(\"\\n5 features\")\n",
    "X_train, X_test, y_train, y_test = train_test_split(five_ten_features, y, test_size=0.4, random_state=0)\n",
    "pca = PCA()\n",
    "std_slc = StandardScaler()\n",
    "model = GaussianNB()  #  Naive Bayes crng\n",
    "pipe = Pipeline(steps=[('std_slc', std_slc),\n",
    "                       ('pca', pca),\n",
    "                       ('naive_bayes', model)])  # naive bayes crng\n",
    "\n",
    "cv = KFold(n_splits=10, shuffle=True)\n",
    "\n",
    "n_components = list(range(1, X.shape[1] + 1, 1))\n",
    "parameters = dict(pca__n_components=n_components)\n",
    "\n",
    "grid_search = GridSearchCV(pipe, parameters)\n",
    "\n",
    "grid_search.fit(X_train, y_train)\n",
    "predicted_probs = grid_search.predict_proba(X_test)\n",
    "print(predicted_probs[0:3])\n",
    "print(grid_search.best_score_, grid_search.best_params_)\n",
    "y_pred = grid_search.predict(X_test)\n",
    "print(y_pred)\n",
    "print('\\n')\n",
    "\n",
    "disp = ConfusionMatrixDisplay.from_predictions(\n",
    "    y_test, y_pred, display_labels=[\"long\", \"short\"]\n",
    ")\n",
    "disp.ax_.set_title(\"Results\")"
   ]
  },
  {
   "cell_type": "code",
   "execution_count": 10,
   "metadata": {},
   "outputs": [
    {
     "name": "stdout",
     "output_type": "stream",
     "text": [
      "\n",
      "5 features\n",
      "[[0.45652868 0.54347132]\n",
      " [0.94915932 0.05084068]\n",
      " [0.60390125 0.39609875]]\n",
      "0.8416666666666668 {'pca__n_components': 1}\n",
      "[ True False False False False False  True False False False False False\n",
      "  True False False  True False False  True False  True  True  True False\n",
      " False False False False False False]\n",
      "\n",
      "\n"
     ]
    },
    {
     "data": {
      "text/plain": [
       "Text(0.5, 1.0, 'Results')"
      ]
     },
     "execution_count": 10,
     "metadata": {},
     "output_type": "execute_result"
    },
    {
     "data": {
      "image/png": "[encoded data removed]",
      "text/plain": [
       "<Figure size 432x288 with 2 Axes>"
      ]
     },
     "metadata": {
      "needs_background": "light"
     },
     "output_type": "display_data"
    }
   ],
   "source": [
    "from sklearn.naive_bayes import GaussianNB\n",
    "from sklearn.model_selection import train_test_split, KFold, GridSearchCV\n",
    "from sklearn.pipeline import Pipeline\n",
    "from sklearn.preprocessing import StandardScaler\n",
    "from sklearn.decomposition import PCA\n",
    "from sklearn.metrics import ConfusionMatrixDisplay\n",
    "import numpy as np\n",
    "\n",
    "print(\"\\n5 features\")\n",
    "X_train, X_test, y_train, y_test = train_test_split(fifteen_features, y, test_size=0.4, random_state=0)\n",
    "pca = PCA()\n",
    "std_slc = StandardScaler()\n",
    "model = GaussianNB()  #  Naive Bayes crng\n",
    "pipe = Pipeline(steps=[('std_slc', std_slc),\n",
    "                       ('pca', pca),\n",
    "                       ('naive_bayes', model)])  # naive bayes crng\n",
    "\n",
    "cv = KFold(n_splits=10, shuffle=True)\n",
    "\n",
    "n_components = list(range(1, X.shape[1] + 1, 1))\n",
    "parameters = dict(pca__n_components=n_components)\n",
    "\n",
    "grid_search = GridSearchCV(pipe, parameters)\n",
    "\n",
    "grid_search.fit(X_train, y_train)\n",
    "predicted_probs = grid_search.predict_proba(X_test)\n",
    "print(predicted_probs[0:3])\n",
    "print(grid_search.best_score_, grid_search.best_params_)\n",
    "y_pred = grid_search.predict(X_test)\n",
    "print(y_pred)\n",
    "print('\\n')\n",
    "\n",
    "disp = ConfusionMatrixDisplay.from_predictions(\n",
    "    y_test, y_pred, display_labels=[\"long\", \"short\"]\n",
    ")\n",
    "disp.ax_.set_title(\"Results\")"
   ]
  }
 ],
 "metadata": {
  "kernelspec": {
   "display_name": "Python 3",
   "language": "python",
   "name": "python3"
  },
  "language_info": {
   "codemirror_mode": {
    "name": "ipython",
    "version": 3
   },
   "file_extension": ".py",
   "mimetype": "text/x-python",
   "name": "python",
   "nbconvert_exporter": "python",
   "pygments_lexer": "ipython3",
   "version": "3.10.4"
  },
  "orig_nbformat": 4
 },
 "nbformat": 4,
 "nbformat_minor": 2
}
