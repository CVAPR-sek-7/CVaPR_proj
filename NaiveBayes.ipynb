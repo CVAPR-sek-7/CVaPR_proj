{
 "cells": [
  {
   "cell_type": "code",
   "execution_count": 35,
   "metadata": {},
   "outputs": [],
   "source": [
    "import pandas as pd\n",
    "from sklearn.linear_model import LogisticRegression\n",
    "from sklearn.feature_selection import SelectKBest\n",
    "from sklearn.feature_selection import mutual_info_classif,f_classif\n",
    "import numpy as np\n",
    "from sklearn.model_selection import train_test_split\n",
    "from sklearn.model_selection import GridSearchCV\n",
    "from sklearn.metrics import ConfusionMatrixDisplay\n",
    "from sklearn.model_selection import KFold\n",
    "from sklearn.pipeline import Pipeline\n",
    "from sklearn import linear_model, decomposition\n",
    "from sklearn.pipeline import Pipeline\n",
    "from sklearn.model_selection import GridSearchCV\n",
    "from sklearn.preprocessing import StandardScaler\n",
    "from sklearn.utils import resample\n",
    "import warnings\n",
    "warnings.filterwarnings(\"ignore\")"
   ]
  },
  {
   "cell_type": "code",
   "execution_count": 15,
   "metadata": {},
   "outputs": [],
   "source": [
    "radiomic_features_df = pd.read_table('Data\\clinical_radiomics.tsv')"
   ]
  },
  {
   "cell_type": "code",
   "execution_count": 16,
   "metadata": {},
   "outputs": [],
   "source": [
    "#Clean up\n",
    "radiomic_features_df = radiomic_features_df[radiomic_features_df.OS_cens == '0']\n",
    "\n",
    "radiomic_features_df[\"OS_result\"] = radiomic_features_df[\"OS\"] > radiomic_features_df[\"OS\"].median() if 'long' else 'short'\n",
    "radiomic_features_df = radiomic_features_df.drop(columns=[\"Image\",\"Mask\",\"type\",\"CT_drugs\",\"Treatment\", \"intent\", \"Metastasis_location\", \n",
    "                                                          \"diagnostics_Versions_PyRadiomics\",\"diagnostics_Versions_Numpy\",\n",
    "                                                          \"diagnostics_Versions_SimpleITK\",\"diagnostics_Versions_PyWavelet\",\n",
    "                                                          \"diagnostics_Versions_Python\",\"diagnostics_Configuration_Settings\",\"diagnostics_Configuration_EnabledImageTypes\",\n",
    "                                                          \"diagnostics_Image.original_Hash\", \"diagnostics_Image.original_Dimensionality\", \"diagnostics_Image.original_Spacing\",\n",
    "                                                          \"diagnostics_Image.original_Minimum\", \"OS_cens\",\"diagnostics_Image.original_Minimum\", \"OS\", \"diagnostics_Mask.original_Hash\",\n",
    "                                                          \"diagnostics_Mask.original_Spacing\", \"diagnostics_Mask.original_BoundingBox\",\t\"diagnostics_Mask.original_VoxelNum\", \"N\",\n",
    "                                                          \"diagnostics_Mask.original_Size\",  \"diagnostics_Image.original_Size\", \"diagnostics_Mask.original_CenterOfMassIndex\",\t\"diagnostics_Mask.original_CenterOfMass\",\n",
    "                                                          \"CT_effect\", \"zubrod_score\", \"T\", \"HT\", \"PLT\", \"RBC\", \"WBC\", \"ID\", \"MFS\",\"MFS_cens\",\"CT_cycles\", \"histopathology\", \"location\",\n",
    "                                                           \"MIP\",\"RT_fractional_dose\", \"HB\"])"
   ]
  },
  {
   "cell_type": "code",
   "execution_count": 47,
   "metadata": {},
   "outputs": [
    {
     "name": "stdout",
     "output_type": "stream",
     "text": [
      "                                   Specs     Score\n",
      "0                                    age -0.654472\n",
      "1                          RT_total_dose -0.564379\n",
      "2        diagnostics_Image.original_Mean  1.642691\n",
      "3     diagnostics_Image.original_Maximum -0.268111\n",
      "4    diagnostics_Mask.original_VolumeNum -0.349983\n",
      "..                                   ...       ...\n",
      "107            original_ngtdm_Complexity  0.048792\n",
      "108              original_ngtdm_Contrast -0.428752\n",
      "109              original_ngtdm_Strength -0.000542\n",
      "110                               FEMALE -0.299757\n",
      "111                                 MALE -0.299757\n",
      "\n",
      "[112 rows x 2 columns]\n"
     ]
    }
   ],
   "source": [
    "X = radiomic_features_df.loc[:,radiomic_features_df.columns != \"OS_result\"]  #independent columns\n",
    "y = radiomic_features_df.loc[:,radiomic_features_df.columns == \"OS_result\"]    #target column i.e price range\n",
    "\n",
    "df1 = pd.get_dummies(X['sex'])\n",
    "X = pd.concat([X, df1], axis=1).reindex(X.index)\n",
    "X.drop('sex', axis=1, inplace=True)\n",
    "std_slc = StandardScaler()\n",
    "\n",
    "y = np.ravel(y)\n",
    "bestfeatures = SelectKBest(score_func=f_classif, k=15)\n",
    "fit = bestfeatures.fit(X,y)\n",
    "dfscores = pd.DataFrame(fit.scores_)\n",
    "dfcolumns = pd.DataFrame(X.columns)\n",
    "\n",
    "data = pd.DataFrame(std_slc.fit_transform(dfscores), columns=dfscores.columns, index=dfscores.index)\n",
    "featureScores = pd.concat([dfcolumns,data],axis=1)\n",
    "featureScores.columns = ['Specs','Score'] \n",
    "print(featureScores)\n",
    "#featureScores = featureScores. = ['Specs','Score']  #naming the dataframe columns"
   ]
  },
  {
   "cell_type": "code",
   "execution_count": 48,
   "metadata": {},
   "outputs": [
    {
     "name": "stdout",
     "output_type": "stream",
     "text": [
      "27                           original_firstorder_Mean\n",
      "19                   original_firstorder_10Percentile\n",
      "32                original_firstorder_RootMeanSquared\n",
      "28                         original_firstorder_Median\n",
      "20                   original_firstorder_90Percentile\n",
      "25                        original_firstorder_Maximum\n",
      "26          original_firstorder_MeanAbsoluteDeviation\n",
      "30                          original_firstorder_Range\n",
      "23             original_firstorder_InterquartileRange\n",
      "31    original_firstorder_RobustMeanAbsoluteDeviation\n",
      "36                       original_firstorder_Variance\n",
      "2                     diagnostics_Image.original_Mean\n",
      "29                        original_firstorder_Minimum\n",
      "21                         original_firstorder_Energy\n",
      "34                    original_firstorder_TotalEnergy\n",
      "Name: Specs, dtype: object\n"
     ]
    }
   ],
   "source": [
    "features = featureScores.nlargest(15,'Score')['Specs']\n",
    "print(features)\n",
    "five_first_features = X[features [:5]] #first 5 features\n",
    "five_ten_features = X[features [:10]] #first 10 features\n",
    "fifteen_features = X[features] #15 features"
   ]
  },
  {
   "cell_type": "code",
   "execution_count": 49,
   "metadata": {},
   "outputs": [
    {
     "name": "stdout",
     "output_type": "stream",
     "text": [
      "\n",
      "5 features\n",
      "[[0.19084277 0.80915723]\n",
      " [0.27825057 0.72174943]\n",
      " [0.23017455 0.76982545]]\n",
      "0.6303030303030304 {'pca__n_components': 3}\n",
      "[ True  True  True False  True False  True False False False False  True\n",
      "  True  True  True]\n",
      "\n",
      "\n"
     ]
    },
    {
     "data": {
      "text/plain": [
       "Text(0.5, 1.0, 'Results')"
      ]
     },
     "execution_count": 49,
     "metadata": {},
     "output_type": "execute_result"
    },
    {
     "data": {
      "image/png": "[encoded data removed]",
      "text/plain": [
       "<Figure size 432x288 with 2 Axes>"
      ]
     },
     "metadata": {
      "needs_background": "light"
     },
     "output_type": "display_data"
    }
   ],
   "source": [
    "from sklearn.naive_bayes import GaussianNB\n",
    "from sklearn.model_selection import train_test_split, KFold, GridSearchCV\n",
    "from sklearn.pipeline import Pipeline\n",
    "from sklearn.preprocessing import StandardScaler\n",
    "from sklearn.decomposition import PCA\n",
    "from sklearn.metrics import ConfusionMatrixDisplay\n",
    "import numpy as np\n",
    "\n",
    "print(\"\\n5 features\")\n",
    "X_train, X_test, y_train, y_test = train_test_split(five_first_features, y, test_size=0.2, random_state=0)\n",
    "pca = PCA()\n",
    "std_slc = StandardScaler()\n",
    "model = GaussianNB()  #  Naive Bayes crng\n",
    "pipe = Pipeline(steps=[('std_slc', std_slc),\n",
    "                       ('pca', pca),\n",
    "                       ('naive_bayes', model)])  # naive bayes crng\n",
    "\n",
    "cv = KFold(n_splits=4, shuffle=True)\n",
    "\n",
    "n_components = list(range(1, X.shape[1] + 1, 1))\n",
    "parameters = dict(pca__n_components=n_components)\n",
    "\n",
    "grid_search = GridSearchCV(pipe, parameters)\n",
    "\n",
    "grid_search.fit(X_train, y_train)\n",
    "predicted_probs = grid_search.predict_proba(X_test)\n",
    "print(predicted_probs[0:3])\n",
    "print(grid_search.best_score_, grid_search.best_params_)\n",
    "y_pred = grid_search.predict(X_test)\n",
    "print(y_pred)\n",
    "print('\\n')\n",
    "\n",
    "disp = ConfusionMatrixDisplay.from_predictions(\n",
    "    y_test, y_pred, display_labels=[\"long\", \"short\"]\n",
    ")\n",
    "disp.ax_.set_title(\"Results\")"
   ]
  },
  {
   "cell_type": "code",
   "execution_count": 50,
   "metadata": {},
   "outputs": [
    {
     "name": "stdout",
     "output_type": "stream",
     "text": [
      "\n",
      "5 features\n",
      "[[0.25119946 0.74880054]\n",
      " [0.4154556  0.5845444 ]\n",
      " [0.25043692 0.74956308]]\n",
      "0.6454545454545455 {'pca__n_components': 2}\n",
      "[ True  True  True False  True  True  True False False False False  True\n",
      "  True  True False  True  True  True  True  True  True  True  True]\n",
      "\n",
      "\n"
     ]
    },
    {
     "data": {
      "text/plain": [
       "Text(0.5, 1.0, 'Results')"
      ]
     },
     "execution_count": 50,
     "metadata": {},
     "output_type": "execute_result"
    },
    {
     "data": {
      "image/png": "[encoded data removed]",
      "text/plain": [
       "<Figure size 432x288 with 2 Axes>"
      ]
     },
     "metadata": {
      "needs_background": "light"
     },
     "output_type": "display_data"
    }
   ],
   "source": [
    "from sklearn.naive_bayes import GaussianNB\n",
    "from sklearn.model_selection import train_test_split, KFold, GridSearchCV\n",
    "from sklearn.pipeline import Pipeline\n",
    "from sklearn.preprocessing import StandardScaler\n",
    "from sklearn.decomposition import PCA\n",
    "from sklearn.metrics import ConfusionMatrixDisplay\n",
    "import numpy as np\n",
    "\n",
    "print(\"\\n5 features\")\n",
    "X_train, X_test, y_train, y_test = train_test_split(five_ten_features, y, test_size=0.3, random_state=0)\n",
    "pca = PCA()\n",
    "std_slc = StandardScaler()\n",
    "model = GaussianNB()  #  Naive Bayes crng\n",
    "pipe = Pipeline(steps=[('std_slc', std_slc),\n",
    "                       ('pca', pca),\n",
    "                       ('naive_bayes', model)])  # naive bayes crng\n",
    "\n",
    "cv = KFold(n_splits=4, shuffle=True)\n",
    "\n",
    "n_components = list(range(1, X.shape[1] + 1, 1))\n",
    "parameters = dict(pca__n_components=n_components)\n",
    "\n",
    "grid_search = GridSearchCV(pipe, parameters)\n",
    "\n",
    "grid_search.fit(X_train, y_train)\n",
    "predicted_probs = grid_search.predict_proba(X_test)\n",
    "print(predicted_probs[0:3])\n",
    "print(grid_search.best_score_, grid_search.best_params_)\n",
    "y_pred = grid_search.predict(X_test)\n",
    "print(y_pred)\n",
    "print('\\n')\n",
    "\n",
    "disp = ConfusionMatrixDisplay.from_predictions(\n",
    "    y_test, y_pred, display_labels=[\"long\", \"short\"]\n",
    ")\n",
    "disp.ax_.set_title(\"Results\")"
   ]
  },
  {
   "cell_type": "code",
   "execution_count": 51,
   "metadata": {},
   "outputs": [
    {
     "name": "stdout",
     "output_type": "stream",
     "text": [
      "\n",
      "5 features\n",
      "[[0.18164497 0.81835503]\n",
      " [0.22898245 0.77101755]\n",
      " [0.15073542 0.84926458]]\n",
      "0.7018181818181819 {'pca__n_components': 3}\n",
      "[ True  True  True False  True False  True  True False False False  True\n",
      "  True False  True  True  True  True  True  True  True  True  True]\n",
      "\n",
      "\n"
     ]
    },
    {
     "data": {
      "text/plain": [
       "Text(0.5, 1.0, 'Results')"
      ]
     },
     "execution_count": 51,
     "metadata": {},
     "output_type": "execute_result"
    },
    {
     "data": {
      "image/png": "[encoded data removed]",
      "text/plain": [
       "<Figure size 432x288 with 2 Axes>"
      ]
     },
     "metadata": {
      "needs_background": "light"
     },
     "output_type": "display_data"
    }
   ],
   "source": [
    "from sklearn.naive_bayes import GaussianNB\n",
    "from sklearn.model_selection import train_test_split, KFold, GridSearchCV\n",
    "from sklearn.pipeline import Pipeline\n",
    "from sklearn.preprocessing import StandardScaler\n",
    "from sklearn.decomposition import PCA\n",
    "from sklearn.metrics import ConfusionMatrixDisplay\n",
    "import numpy as np\n",
    "\n",
    "print(\"\\n5 features\")\n",
    "X_train, X_test, y_train, y_test = train_test_split(fifteen_features, y, test_size=0.3, random_state=0)\n",
    "pca = PCA()\n",
    "std_slc = StandardScaler()\n",
    "model = GaussianNB()  #  Naive Bayes crng\n",
    "pipe = Pipeline(steps=[('std_slc', std_slc),\n",
    "                       ('pca', pca),\n",
    "                       ('naive_bayes', model)])  # naive bayes crng\n",
    "\n",
    "cv = KFold(n_splits=4, shuffle=True)\n",
    "\n",
    "n_components = list(range(1, X.shape[1] + 1, 1))\n",
    "parameters = dict(pca__n_components=n_components)\n",
    "\n",
    "grid_search = GridSearchCV(pipe, parameters)\n",
    "\n",
    "grid_search.fit(X_train, y_train)\n",
    "predicted_probs = grid_search.predict_proba(X_test)\n",
    "print(predicted_probs[0:3])\n",
    "print(grid_search.best_score_, grid_search.best_params_)\n",
    "y_pred = grid_search.predict(X_test)\n",
    "print(y_pred)\n",
    "print('\\n')\n",
    "\n",
    "disp = ConfusionMatrixDisplay.from_predictions(\n",
    "    y_test, y_pred, display_labels=[\"long\", \"short\"]\n",
    ")\n",
    "disp.ax_.set_title(\"Results\")"
   ]
  }
 ],
 "metadata": {
  "kernelspec": {
   "display_name": "Python 3",
   "language": "python",
   "name": "python3"
  },
  "language_info": {
   "codemirror_mode": {
    "name": "ipython",
    "version": 3
   },
   "file_extension": ".py",
   "mimetype": "text/x-python",
   "name": "python",
   "nbconvert_exporter": "python",
   "pygments_lexer": "ipython3",
   "version": "3.8.5"
  },
  "orig_nbformat": 4
 },
 "nbformat": 4,
 "nbformat_minor": 2
}
