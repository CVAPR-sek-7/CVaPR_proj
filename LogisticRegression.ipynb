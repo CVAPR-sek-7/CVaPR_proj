{
 "cells": [
  {
   "cell_type": "code",
   "execution_count": 2,
   "metadata": {},
   "outputs": [
    {
     "name": "stdout",
     "output_type": "stream",
     "text": [
      "Collecting git+https://github.com/smazzanti/confusion_viz\n",
      "  Cloning https://github.com/smazzanti/confusion_viz to c:\\users\\czare\\appdata\\local\\temp\\pip-req-build-k8h723yn\n",
      "  Resolved https://github.com/smazzanti/confusion_viz to commit 5ed5d54ff46d566c23edaa5eb4059d2e34af6719\n",
      "  Preparing metadata (setup.py): started\n",
      "  Preparing metadata (setup.py): finished with status 'done'\n",
      "Requirement already satisfied: numpy>=1.18.1 in c:\\users\\czare\\appdata\\local\\programs\\python\\python38\\lib\\site-packages (from confusion-viz==0.1) (1.23.5)\n",
      "Requirement already satisfied: sklearn in c:\\users\\czare\\appdata\\local\\programs\\python\\python38\\lib\\site-packages (from confusion-viz==0.1) (0.0.post5)\n",
      "Requirement already satisfied: plotly>=4.5.2 in c:\\users\\czare\\appdata\\local\\programs\\python\\python38\\lib\\site-packages (from confusion-viz==0.1) (5.14.1)\n",
      "Requirement already satisfied: tenacity>=6.2.0 in c:\\users\\czare\\appdata\\local\\programs\\python\\python38\\lib\\site-packages (from plotly>=4.5.2->confusion-viz==0.1) (8.2.2)\n",
      "Requirement already satisfied: packaging in c:\\users\\czare\\appdata\\local\\programs\\python\\python38\\lib\\site-packages (from plotly>=4.5.2->confusion-viz==0.1) (23.0)\n",
      "Note: you may need to restart the kernel to use updated packages.\n"
     ]
    },
    {
     "name": "stderr",
     "output_type": "stream",
     "text": [
      "WARNING: Ignoring invalid distribution -rotobuf (c:\\users\\czare\\appdata\\local\\programs\\python\\python38\\lib\\site-packages)\n",
      "WARNING: Ignoring invalid distribution -rotobuf (c:\\users\\czare\\appdata\\local\\programs\\python\\python38\\lib\\site-packages)\n",
      "  Running command git clone --filter=blob:none --quiet https://github.com/smazzanti/confusion_viz 'C:\\Users\\czare\\AppData\\Local\\Temp\\pip-req-build-k8h723yn'\n",
      "WARNING: Ignoring invalid distribution -rotobuf (c:\\users\\czare\\appdata\\local\\programs\\python\\python38\\lib\\site-packages)\n",
      "WARNING: Ignoring invalid distribution -rotobuf (c:\\users\\czare\\appdata\\local\\programs\\python\\python38\\lib\\site-packages)\n",
      "WARNING: Ignoring invalid distribution -rotobuf (c:\\users\\czare\\appdata\\local\\programs\\python\\python38\\lib\\site-packages)\n",
      "WARNING: Ignoring invalid distribution -rotobuf (c:\\users\\czare\\appdata\\local\\programs\\python\\python38\\lib\\site-packages)\n",
      "\n",
      "[notice] A new release of pip available: 22.3.1 -> 23.1.2\n",
      "[notice] To update, run: python.exe -m pip install --upgrade pip\n"
     ]
    },
    {
     "name": "stdout",
     "output_type": "stream",
     "text": [
      "Requirement already satisfied: nbformat in c:\\users\\czare\\appdata\\local\\programs\\python\\python38\\lib\\site-packages (5.8.0)\n",
      "Requirement already satisfied: fastjsonschema in c:\\users\\czare\\appdata\\local\\programs\\python\\python38\\lib\\site-packages (from nbformat) (2.17.1)\n",
      "Requirement already satisfied: jupyter-core in c:\\users\\czare\\appdata\\roaming\\python\\python38\\site-packages (from nbformat) (5.3.0)\n",
      "Requirement already satisfied: jsonschema>=2.6 in c:\\users\\czare\\appdata\\local\\programs\\python\\python38\\lib\\site-packages (from nbformat) (4.17.3)\n",
      "Requirement already satisfied: traitlets>=5.1 in c:\\users\\czare\\appdata\\roaming\\python\\python38\\site-packages (from nbformat) (5.9.0)\n",
      "Requirement already satisfied: importlib-resources>=1.4.0 in c:\\users\\czare\\appdata\\local\\programs\\python\\python38\\lib\\site-packages (from jsonschema>=2.6->nbformat) (5.12.0)\n",
      "Requirement already satisfied: attrs>=17.4.0 in c:\\users\\czare\\appdata\\local\\programs\\python\\python38\\lib\\site-packages (from jsonschema>=2.6->nbformat) (22.2.0)\n",
      "Requirement already satisfied: pkgutil-resolve-name>=1.3.10 in c:\\users\\czare\\appdata\\local\\programs\\python\\python38\\lib\\site-packages (from jsonschema>=2.6->nbformat) (1.3.10)\n",
      "Requirement already satisfied: pyrsistent!=0.17.0,!=0.17.1,!=0.17.2,>=0.14.0 in c:\\users\\czare\\appdata\\local\\programs\\python\\python38\\lib\\site-packages (from jsonschema>=2.6->nbformat) (0.19.3)\n",
      "Requirement already satisfied: pywin32>=300 in c:\\users\\czare\\appdata\\roaming\\python\\python38\\site-packages (from jupyter-core->nbformat) (306)\n",
      "Requirement already satisfied: platformdirs>=2.5 in c:\\users\\czare\\appdata\\roaming\\python\\python38\\site-packages (from jupyter-core->nbformat) (3.5.1)\n",
      "Requirement already satisfied: zipp>=3.1.0 in c:\\users\\czare\\appdata\\local\\programs\\python\\python38\\lib\\site-packages (from importlib-resources>=1.4.0->jsonschema>=2.6->nbformat) (3.11.0)\n",
      "Note: you may need to restart the kernel to use updated packages.\n"
     ]
    },
    {
     "name": "stderr",
     "output_type": "stream",
     "text": [
      "WARNING: Ignoring invalid distribution -rotobuf (c:\\users\\czare\\appdata\\local\\programs\\python\\python38\\lib\\site-packages)\n",
      "WARNING: Ignoring invalid distribution -rotobuf (c:\\users\\czare\\appdata\\local\\programs\\python\\python38\\lib\\site-packages)\n",
      "WARNING: Ignoring invalid distribution -rotobuf (c:\\users\\czare\\appdata\\local\\programs\\python\\python38\\lib\\site-packages)\n",
      "WARNING: Ignoring invalid distribution -rotobuf (c:\\users\\czare\\appdata\\local\\programs\\python\\python38\\lib\\site-packages)\n",
      "WARNING: Ignoring invalid distribution -rotobuf (c:\\users\\czare\\appdata\\local\\programs\\python\\python38\\lib\\site-packages)\n",
      "WARNING: Ignoring invalid distribution -rotobuf (c:\\users\\czare\\appdata\\local\\programs\\python\\python38\\lib\\site-packages)\n",
      "\n",
      "[notice] A new release of pip available: 22.3.1 -> 23.1.2\n",
      "[notice] To update, run: python.exe -m pip install --upgrade pip\n"
     ]
    }
   ],
   "source": [
    "%pip install git+https://github.com/smazzanti/confusion_viz\n",
    "%pip install --upgrade nbformat"
   ]
  },
  {
   "cell_type": "code",
   "execution_count": 3,
   "metadata": {},
   "outputs": [],
   "source": [
    "import pandas as pd\n",
    "from sklearn.linear_model import LogisticRegression\n",
    "from sklearn.feature_selection import SelectKBest\n",
    "from sklearn.feature_selection import mutual_info_classif\n",
    "import numpy as np\n",
    "from sklearn.model_selection import train_test_split\n",
    "from sklearn.model_selection import GridSearchCV\n",
    "from sklearn.metrics import ConfusionMatrixDisplay\n",
    "from sklearn.model_selection import KFold\n",
    "from sklearn.pipeline import Pipeline\n",
    "from sklearn import linear_model, decomposition\n",
    "from sklearn.pipeline import Pipeline\n",
    "from sklearn.model_selection import GridSearchCV\n",
    "from sklearn.preprocessing import StandardScaler\n",
    "from sklearn.utils import resample\n",
    "import warnings\n",
    "warnings.filterwarnings(\"ignore\")"
   ]
  },
  {
   "cell_type": "code",
   "execution_count": 4,
   "metadata": {},
   "outputs": [],
   "source": [
    "radiomic_features_df = pd.read_table('Data\\clinical_radiomics.tsv')"
   ]
  },
  {
   "cell_type": "code",
   "execution_count": 5,
   "metadata": {},
   "outputs": [],
   "source": [
    "#Clean up\n",
    "radiomic_features_df = radiomic_features_df[radiomic_features_df.OS_cens == '0']\n",
    "\n",
    "radiomic_features_df[\"OS_result\"] = radiomic_features_df[\"OS\"] > 2.15 if 'long' else 'short'\n",
    "radiomic_features_df = radiomic_features_df.drop(columns=[\"Image\",\"Mask\",\"type\",\"CT_drugs\",\"Treatment\", \"intent\", \"Metastasis_location\", \n",
    "                                                          \"diagnostics_Versions_PyRadiomics\",\"diagnostics_Versions_Numpy\",\n",
    "                                                          \"diagnostics_Versions_SimpleITK\",\"diagnostics_Versions_PyWavelet\",\n",
    "                                                          \"diagnostics_Versions_Python\",\"diagnostics_Configuration_Settings\",\"diagnostics_Configuration_EnabledImageTypes\",\n",
    "                                                          \"diagnostics_Image.original_Hash\", \"diagnostics_Image.original_Dimensionality\", \"diagnostics_Image.original_Spacing\",\n",
    "                                                          \"diagnostics_Image.original_Minimum\", \"OS_cens\",\"diagnostics_Image.original_Minimum\", \"OS\", \"diagnostics_Mask.original_Hash\",\n",
    "                                                          \"diagnostics_Mask.original_Spacing\", \"diagnostics_Mask.original_BoundingBox\",\t\"diagnostics_Mask.original_VoxelNum\", \"N\",\n",
    "                                                          \"diagnostics_Mask.original_Size\",  \"diagnostics_Image.original_Size\", \"diagnostics_Mask.original_CenterOfMassIndex\",\t\"diagnostics_Mask.original_CenterOfMass\",\n",
    "                                                          \"CT_effect\", \"zubrod_score\", \"T\", \"HT\", \"PLT\", \"RBC\", \"WBC\", \"ID\", \"MFS\",\"MFS_cens\",\"CT_cycles\", \"histopathology\", \"location\",\n",
    "                                                           \"MIP\",\"RT_fractional_dose\", \"HB\"])\n"
   ]
  },
  {
   "cell_type": "code",
   "execution_count": 39,
   "metadata": {},
   "outputs": [
    {
     "name": "stdout",
     "output_type": "stream",
     "text": [
      "                                   Specs     Score\n",
      "0                                    age -0.700593\n",
      "1                          RT_total_dose -0.445824\n",
      "2        diagnostics_Image.original_Mean -0.700593\n",
      "3     diagnostics_Image.original_Maximum -0.700593\n",
      "4    diagnostics_Mask.original_VolumeNum  0.493763\n",
      "..                                   ...       ...\n",
      "107            original_ngtdm_Complexity -0.147294\n",
      "108              original_ngtdm_Contrast  0.634201\n",
      "109              original_ngtdm_Strength -0.700593\n",
      "110                               FEMALE -0.700593\n",
      "111                                 MALE  0.857694\n",
      "\n",
      "[112 rows x 2 columns]\n"
     ]
    }
   ],
   "source": [
    "X = radiomic_features_df.loc[:,radiomic_features_df.columns != \"OS_result\"]  #independent columns\n",
    "y = radiomic_features_df.loc[:,radiomic_features_df.columns == \"OS_result\"]    #target column i.e price range\n",
    "\n",
    "df1 = pd.get_dummies(X['sex'])\n",
    "X = pd.concat([X, df1], axis=1).reindex(X.index)\n",
    "X.drop('sex', axis=1, inplace=True)\n",
    "std_slc = StandardScaler()\n",
    "\n",
    "y = np.ravel(y)\n",
    "bestfeatures = SelectKBest(score_func=mutual_info_classif, k=15)\n",
    "fit = bestfeatures.fit(X,y)\n",
    "dfscores = pd.DataFrame(fit.scores_)\n",
    "dfcolumns = pd.DataFrame(X.columns)\n",
    "\n",
    "data = pd.DataFrame(std_slc.fit_transform(dfscores), columns=dfscores.columns, index=dfscores.index)\n",
    "featureScores = pd.concat([dfcolumns,data],axis=1)\n",
    "featureScores.columns = ['Specs','Score'] \n",
    "print(featureScores)\n",
    "#featureScores = featureScores. = ['Specs','Score']  #naming the dataframe columns"
   ]
  },
  {
   "cell_type": "code",
   "execution_count": 40,
   "metadata": {},
   "outputs": [
    {
     "name": "stdout",
     "output_type": "stream",
     "text": [
      "32            original_firstorder_RootMeanSquared\n",
      "97            original_gldm_HighGrayLevelEmphasis\n",
      "27                       original_firstorder_Mean\n",
      "21                     original_firstorder_Energy\n",
      "34                original_firstorder_TotalEnergy\n",
      "50                             original_glcm_Imc2\n",
      "37                  original_glcm_Autocorrelation\n",
      "28                     original_firstorder_Median\n",
      "64    original_glrlm_LongRunHighGrayLevelEmphasis\n",
      "16                     original_shape_SurfaceArea\n",
      "8                  original_shape_MajorAxisLength\n",
      "72                original_glrlm_ShortRunEmphasis\n",
      "30                      original_firstorder_Range\n",
      "40                     original_glcm_ClusterShade\n",
      "20               original_firstorder_90Percentile\n",
      "Name: Specs, dtype: object\n"
     ]
    }
   ],
   "source": [
    "\n",
    "features = featureScores.nlargest(15,'Score')['Specs']\n",
    "print(features)\n",
    "five_first_features = X[features [:5]] #first 5 features\n",
    "five_ten_features = X[features [:10]] #first 10 features\n",
    "fifteen_features = X[features] #15 features"
   ]
  },
  {
   "cell_type": "code",
   "execution_count": 41,
   "metadata": {},
   "outputs": [
    {
     "name": "stdout",
     "output_type": "stream",
     "text": [
      "\n",
      "5 features\n",
      "[[0.79506003 0.20493997]\n",
      " [0.79538285 0.20461715]\n",
      " [0.7951439  0.2048561 ]]\n",
      "0.7972222222222223 {'logistic_Reg__C': 0.0001, 'logistic_Reg__penalty': 'l2', 'pca__n_components': 1}\n",
      "[False False False False False False False False False False False False\n",
      " False False False False False False False False False False False False\n",
      " False False False False False False]\n",
      "\n",
      "\n"
     ]
    },
    {
     "data": {
      "text/plain": [
       "Text(0.5, 1.0, 'Results')"
      ]
     },
     "execution_count": 41,
     "metadata": {},
     "output_type": "execute_result"
    },
    {
     "data": {
      "image/png": "[encoded data removed]",
      "text/plain": [
       "<Figure size 640x480 with 2 Axes>"
      ]
     },
     "metadata": {},
     "output_type": "display_data"
    }
   ],
   "source": [
    "print(\"\\n5 features\")\n",
    "X_train,X_test,y_train,y_test = train_test_split(five_first_features,y,test_size = 0.4, random_state = 0)\n",
    "pca = decomposition.PCA()\n",
    "std_slc = StandardScaler()\n",
    "model = LogisticRegression()\n",
    "pipe = Pipeline(steps=[('std_slc', std_slc),\n",
    "                           ('pca', pca),\n",
    "                           ('logistic_Reg', model)])\n",
    "\n",
    "cv = KFold(n_splits=10,shuffle=True)\n",
    "C = np.logspace(-4, 4, 50)\n",
    "penalty = ['l1', 'l2']\n",
    "n_components = list(range(1,X.shape[1]+1,1))\n",
    "parameters = dict(pca__n_components=n_components,\n",
    "                      logistic_Reg__C=C,\n",
    "                      logistic_Reg__penalty=penalty)\n",
    "grid_search = GridSearchCV(pipe, parameters)\n",
    "\n",
    "grid_search.fit(X_train, y_train)\n",
    "predicted_probs =grid_search.predict_proba(X_test)\n",
    "print(predicted_probs[0:3])\n",
    "print (grid_search.best_score_, grid_search.best_params_) \n",
    "y_pred = grid_search.predict(X_test)\n",
    "print(y_pred)\n",
    "print('\\n')\n",
    "disp = ConfusionMatrixDisplay.from_predictions(\n",
    "       y_test,y_pred,display_labels=[\"long\",\"short\"]\n",
    "    )\n",
    "disp.ax_.set_title(\"Results\")"
   ]
  },
  {
   "cell_type": "code",
   "execution_count": null,
   "metadata": {},
   "outputs": [
    {
     "name": "stdout",
     "output_type": "stream",
     "text": [
      "\n",
      "10 features\n",
      "[[0.49514012 0.50485988]\n",
      " [0.91329732 0.08670268]\n",
      " [0.70953644 0.29046356]]\n",
      "0.8638888888888889 {'logistic_Reg__C': 0.5689866029018293, 'logistic_Reg__penalty': 'l2', 'pca__n_components': 2}\n",
      "[ True False False False False False  True False False False False False\n",
      " False False False False False False False False False False False False\n",
      " False False False False False False]\n",
      "\n",
      "\n"
     ]
    },
    {
     "data": {
      "text/plain": [
       "Text(0.5, 1.0, 'Results')"
      ]
     },
     "execution_count": 18,
     "metadata": {},
     "output_type": "execute_result"
    },
    {
     "data": {
      "image/png": "[encoded data removed]",
      "text/plain": [
       "<Figure size 640x480 with 2 Axes>"
      ]
     },
     "metadata": {},
     "output_type": "display_data"
    }
   ],
   "source": [
    "print(\"\\n10 features\")\n",
    "X_train,X_test,y_train,y_test = train_test_split(five_ten_features,y,test_size = 0.4, random_state = 0)\n",
    "pca = decomposition.PCA()\n",
    "std_slc = StandardScaler()\n",
    "model = LogisticRegression()\n",
    "pipe = Pipeline(steps=[('std_slc', std_slc),\n",
    "                           ('pca', pca),\n",
    "                           ('logistic_Reg', model)])\n",
    "\n",
    "cv = KFold(n_splits=10,shuffle=True)\n",
    "C = np.logspace(-4, 4, 50)\n",
    "penalty = ['l1', 'l2']\n",
    "n_components = list(range(1,X.shape[1]+1,1))\n",
    "parameters = dict(pca__n_components=n_components,\n",
    "                      logistic_Reg__C=C,\n",
    "                      logistic_Reg__penalty=penalty)\n",
    "grid_search = GridSearchCV(pipe, parameters)\n",
    "\n",
    "grid_search.fit(X_train, y_train)\n",
    "predicted_probs =grid_search.predict_proba(X_test)\n",
    "print(predicted_probs[0:3])\n",
    "print (grid_search.best_score_, grid_search.best_params_) \n",
    "y_pred = grid_search.predict(X_test)\n",
    "print(y_pred)\n",
    "print('\\n')\n",
    "disp = ConfusionMatrixDisplay.from_predictions(\n",
    "       y_test,y_pred,display_labels=[\"long\",\"short\"]\n",
    "    )\n",
    "disp.ax_.set_title(\"Results\")"
   ]
  },
  {
   "cell_type": "code",
   "execution_count": null,
   "metadata": {},
   "outputs": [
    {
     "name": "stdout",
     "output_type": "stream",
     "text": [
      "\n",
      "15 features\n",
      "[[0.36839572 0.63160428]\n",
      " [0.89528696 0.10471304]\n",
      " [0.6143139  0.3856861 ]]\n",
      "0.8638888888888889 {'logistic_Reg__C': 1.2067926406393288, 'logistic_Reg__penalty': 'l2', 'pca__n_components': 1}\n",
      "[ True False False False False False False False False False False False\n",
      " False False False False False False  True False  True False False False\n",
      " False False False False False False]\n",
      "\n",
      "\n"
     ]
    },
    {
     "data": {
      "text/plain": [
       "Text(0.5, 1.0, 'Results')"
      ]
     },
     "execution_count": 19,
     "metadata": {},
     "output_type": "execute_result"
    },
    {
     "data": {
      "image/png": "[encoded data removed]",
      "text/plain": [
       "<Figure size 640x480 with 2 Axes>"
      ]
     },
     "metadata": {},
     "output_type": "display_data"
    }
   ],
   "source": [
    "print(\"\\n15 features\")\n",
    "X_train,X_test,y_train,y_test = train_test_split(fifteen_features,y,test_size = 0.4, random_state = 0)\n",
    "pca = decomposition.PCA()\n",
    "std_slc = StandardScaler()\n",
    "model = LogisticRegression()\n",
    "pipe = Pipeline(steps=[('std_slc', std_slc),\n",
    "                           ('pca', pca),\n",
    "                           ('logistic_Reg', model)])\n",
    "\n",
    "cv = KFold(n_splits=10,shuffle=True)\n",
    "C = np.logspace(-4, 4, 50)\n",
    "penalty = ['l1', 'l2']\n",
    "n_components = list(range(1,X.shape[1]+1,1))\n",
    "parameters = dict(pca__n_components=n_components,\n",
    "                      logistic_Reg__C=C,\n",
    "                      logistic_Reg__penalty=penalty)\n",
    "grid_search = GridSearchCV(pipe, parameters)\n",
    "\n",
    "grid_search.fit(X_train, y_train)\n",
    "predicted_probs =grid_search.predict_proba(X_test)\n",
    "print(predicted_probs[0:3])\n",
    "print (grid_search.best_score_, grid_search.best_params_) \n",
    "y_pred = grid_search.predict(X_test)\n",
    "print(y_pred)\n",
    "print('\\n')\n",
    "disp = ConfusionMatrixDisplay.from_predictions(\n",
    "       y_test,y_pred,display_labels=[\"long\",\"short\"]\n",
    "    )\n",
    "disp.ax_.set_title(\"Results\")"
   ]
  },
  {
   "cell_type": "code",
   "execution_count": null,
   "metadata": {},
   "outputs": [
    {
     "name": "stdout",
     "output_type": "stream",
     "text": [
      "[[0.88815361 0.11184639]\n",
      " [0.62670708 0.37329292]\n",
      " [0.47521501 0.52478499]]\n",
      "0.8388888888888889 {'logistic_Reg__C': 0.05963623316594643, 'logistic_Reg__penalty': 'l2', 'pca__n_components': 15}\n",
      "[False False  True False False False False False False False  True False\n",
      " False False False False False False False False False False False False\n",
      " False False False False False False]\n",
      "\n",
      "\n"
     ]
    },
    {
     "data": {
      "text/plain": [
       "Text(0.5, 1.0, 'Results')"
      ]
     },
     "execution_count": 20,
     "metadata": {},
     "output_type": "execute_result"
    },
    {
     "data": {
      "image/png": "[encoded data removed]",
      "text/plain": [
       "<Figure size 640x480 with 2 Axes>"
      ]
     },
     "metadata": {},
     "output_type": "display_data"
    }
   ],
   "source": [
    "from sklearn.datasets import make_classification\n",
    "from sklearn.model_selection import KFold\n",
    "from sklearn.pipeline import Pipeline\n",
    "from sklearn import linear_model, decomposition, datasets\n",
    "from sklearn.pipeline import Pipeline\n",
    "from sklearn.model_selection import GridSearchCV\n",
    "from sklearn.preprocessing import StandardScaler\n",
    "from sklearn.utils import resample\n",
    "\n",
    "X = radiomic_features_df.loc[:,radiomic_features_df.columns != \"OS_result\"]  #independent columns\n",
    "y = radiomic_features_df.loc[:,radiomic_features_df.columns == \"OS_result\"]  #target column i.e price range\n",
    "df1 = pd.get_dummies(X['sex'])\n",
    "X = pd.concat([X, df1], axis=1).reindex(X.index)\n",
    "X.drop('sex', axis=1, inplace=True)\n",
    "X_train,X_test,y_train,y_test = train_test_split(X,y,random_state=33,test_size=0.4)\n",
    "pca = decomposition.PCA()\n",
    "std_slc = StandardScaler()\n",
    "model = LogisticRegression()\n",
    "pipe = Pipeline(steps=[('std_slc', std_slc),\n",
    "                           ('pca', pca),\n",
    "                           ('logistic_Reg', model)])\n",
    "\n",
    "cv = KFold(n_splits=10,shuffle=True)\n",
    "C = np.logspace(-4, 4, 50)\n",
    "penalty = ['l1', 'l2']\n",
    "n_components = list(range(1,X.shape[1]+1,1))\n",
    "parameters = dict(pca__n_components=n_components,\n",
    "                      logistic_Reg__C=C,\n",
    "                      logistic_Reg__penalty=penalty)\n",
    "grid_search = GridSearchCV(pipe, parameters)\n",
    "\n",
    "grid_search.fit(X_train, y_train)\n",
    "predicted_probs =grid_search.predict_proba(X_test)\n",
    "print(predicted_probs[0:3])\n",
    "print (grid_search.best_score_, grid_search.best_params_) \n",
    "y_pred = grid_search.predict(X_test)\n",
    "print(y_pred)\n",
    "print('\\n')\n",
    "disp = ConfusionMatrixDisplay.from_predictions(\n",
    "       y_test,y_pred,display_labels=[\"long\",\"short\"]\n",
    "    )\n",
    "disp.ax_.set_title(\"Results\")"
   ]
  }
 ],
 "metadata": {
  "kernelspec": {
   "display_name": "Python 3",
   "language": "python",
   "name": "python3"
  },
  "language_info": {
   "codemirror_mode": {
    "name": "ipython",
    "version": 3
   },
   "file_extension": ".py",
   "mimetype": "text/x-python",
   "name": "python",
   "nbconvert_exporter": "python",
   "pygments_lexer": "ipython3",
   "version": "3.8.0"
  },
  "orig_nbformat": 4
 },
 "nbformat": 4,
 "nbformat_minor": 2
}
