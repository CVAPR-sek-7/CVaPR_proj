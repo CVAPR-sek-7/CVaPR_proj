{
 "cells": [
  {
   "cell_type": "code",
   "execution_count": 6,
   "metadata": {},
   "outputs": [],
   "source": [
    "import pandas as pd\n",
    "from sklearn.linear_model import LogisticRegression\n",
    "from sklearn.feature_selection import SelectKBest\n",
    "from sklearn.feature_selection import mutual_info_classif\n",
    "import numpy as np\n",
    "from sklearn.model_selection import train_test_split"
   ]
  },
  {
   "cell_type": "code",
   "execution_count": 7,
   "metadata": {},
   "outputs": [],
   "source": [
    "radiomic_features_df = pd.read_table('Data\\clinical_radiomics.tsv')"
   ]
  },
  {
   "cell_type": "code",
   "execution_count": 8,
   "metadata": {},
   "outputs": [],
   "source": [
    "#Clean up\n",
    "radiomic_features_df = radiomic_features_df[radiomic_features_df.OS_cens == '0']\n",
    "radiomic_features_df[\"OS_result\"] = radiomic_features_df[\"OS\"] > 2.15 if 'long' else 'short'\n",
    "radiomic_features_df = radiomic_features_df.drop(columns=[\"Image\",\"Mask\",\"type\",\"CT_drugs\",\"Treatment\", \"intent\", \"Metastasis_location\", \n",
    "                                                          \"diagnostics_Versions_PyRadiomics\",\"diagnostics_Versions_Numpy\",\n",
    "                                                          \"diagnostics_Versions_SimpleITK\",\"diagnostics_Versions_PyWavelet\",\n",
    "                                                          \"diagnostics_Versions_Python\",\"diagnostics_Configuration_Settings\",\"diagnostics_Configuration_EnabledImageTypes\",\n",
    "                                                          \"diagnostics_Image.original_Hash\", \"diagnostics_Image.original_Dimensionality\", \"diagnostics_Image.original_Spacing\",\n",
    "                                                          \"diagnostics_Image.original_Minimum\", \"OS_cens\",\"diagnostics_Image.original_Minimum\", \"OS\", \"diagnostics_Mask.original_Hash\",\n",
    "                                                          \"diagnostics_Mask.original_Spacing\", \"diagnostics_Mask.original_BoundingBox\",\t\"diagnostics_Mask.original_VoxelNum\", \"N\",\n",
    "                                                          \"diagnostics_Mask.original_Size\",  \"diagnostics_Image.original_Size\", \"diagnostics_Mask.original_CenterOfMassIndex\",\t\"diagnostics_Mask.original_CenterOfMass\",\n",
    "                                                          \"CT_effect\", \"zubrod_score\", \"T\", \"HT\", \"PLT\", \"RBC\", \"WBC\", \"ID\", \"MFS\",\"MFS_cens\",\"CT_cycles\", \"histopathology\", \"location\",\n",
    "                                                           \"MIP\",\"RT_fractional_dose\", \"HB\"])\n"
   ]
  },
  {
   "cell_type": "code",
   "execution_count": 9,
   "metadata": {},
   "outputs": [],
   "source": [
    "X = radiomic_features_df.loc[:,radiomic_features_df.columns != \"OS_result\"]  #independent columns\n",
    "y = radiomic_features_df.loc[:,radiomic_features_df.columns == \"OS_result\"]    #target column i.e price range\n",
    "\n",
    "df1 = pd.get_dummies(X['sex'])\n",
    "X = pd.concat([X, df1], axis=1).reindex(X.index)\n",
    "X.drop('sex', axis=1, inplace=True)\n",
    "\n",
    "y = np.ravel(y)\n",
    "bestfeatures = SelectKBest(score_func=mutual_info_classif, k=15)\n",
    "fit = bestfeatures.fit(X,y)\n",
    "dfscores = pd.DataFrame(fit.scores_)\n",
    "dfcolumns = pd.DataFrame(X.columns)\n",
    "featureScores = pd.concat([dfcolumns,dfscores],axis=1)\n",
    "featureScores.columns = ['Specs','Score']  #naming the dataframe columns"
   ]
  },
  {
   "cell_type": "code",
   "execution_count": 10,
   "metadata": {},
   "outputs": [],
   "source": [
    "features = featureScores.nlargest(15,'Score')['Specs']\n",
    "\n",
    "five_first_features = X[features [:5]] #first 5 features\n",
    "five_ten_features = X[features [:10]] #first 10 features\n",
    "fifteen_features = X[features] #15 features"
   ]
  },
  {
   "cell_type": "code",
   "execution_count": 11,
   "metadata": {},
   "outputs": [
    {
     "name": "stdout",
     "output_type": "stream",
     "text": [
      "\n",
      "5 features\n",
      "[[0.99616897 0.00383103]\n",
      " [0.75452269 0.24547731]\n",
      " [0.55609094 0.44390906]]\n",
      "0.9473684210526315\n"
     ]
    }
   ],
   "source": [
    "print(\"\\n5 features\")\n",
    "X_train,X_test,y_train,y_test = train_test_split(five_first_features,y,test_size = 0.25, random_state = 33)\n",
    "model = LogisticRegression(random_state=0,max_iter=4000,solver=\"liblinear\")\n",
    "model.fit(X_train,y_train)\n",
    "predicted_probs = model.predict_proba(X_test)\n",
    "print(predicted_probs[0:3])\n",
    "print(model.score(X_test,y_test))"
   ]
  },
  {
   "cell_type": "code",
   "execution_count": 12,
   "metadata": {},
   "outputs": [
    {
     "name": "stdout",
     "output_type": "stream",
     "text": [
      "\n",
      "10 features\n",
      "[[0.99616897 0.00383103]\n",
      " [0.75452269 0.24547731]\n",
      " [0.55609094 0.44390906]]\n",
      "0.9473684210526315\n"
     ]
    }
   ],
   "source": [
    "print(\"\\n10 features\")\n",
    "X_train,X_test,y_train,y_test = train_test_split(five_ten_features,y,test_size = 0.25, random_state = 33)\n",
    "model = LogisticRegression(random_state=0,max_iter=4000,solver=\"liblinear\")\n",
    "model.fit(X_train,y_train)\n",
    "predicted_probs = model.predict_proba(X_test)\n",
    "print(predicted_probs[0:3])\n",
    "print(model.score(X_test,y_test))"
   ]
  },
  {
   "cell_type": "code",
   "execution_count": 13,
   "metadata": {},
   "outputs": [
    {
     "name": "stdout",
     "output_type": "stream",
     "text": [
      "\n",
      "15 features\n",
      "[[0.99616897 0.00383103]\n",
      " [0.75452269 0.24547731]\n",
      " [0.55609094 0.44390906]]\n",
      "0.9473684210526315\n"
     ]
    }
   ],
   "source": [
    "print(\"\\n15 features\")\n",
    "X_train,X_test,y_train,y_test = train_test_split(fifteen_features,y,test_size = 0.25, random_state = 33)\n",
    "model = LogisticRegression(random_state=0,max_iter=4000,solver=\"liblinear\")\n",
    "model.fit(X_train,y_train)\n",
    "predicted_probs = model.predict_proba(X_test)\n",
    "print(predicted_probs[0:3])\n",
    "print(model.score(X_test,y_test))"
   ]
  }
 ],
 "metadata": {
  "kernelspec": {
   "display_name": "Python 3",
   "language": "python",
   "name": "python3"
  },
  "language_info": {
   "codemirror_mode": {
    "name": "ipython",
    "version": 3
   },
   "file_extension": ".py",
   "mimetype": "text/x-python",
   "name": "python",
   "nbconvert_exporter": "python",
   "pygments_lexer": "ipython3",
   "version": "3.8.0"
  },
  "orig_nbformat": 4
 },
 "nbformat": 4,
 "nbformat_minor": 2
}
