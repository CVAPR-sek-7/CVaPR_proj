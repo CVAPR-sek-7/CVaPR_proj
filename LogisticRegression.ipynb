{
 "cells": [
  {
   "cell_type": "code",
   "execution_count": 1,
   "metadata": {},
   "outputs": [
    {
     "name": "stdout",
     "output_type": "stream",
     "text": [
      "^C\n",
      "Note: you may need to restart the kernel to use updated packages.\n",
      "Collecting nbformat\n",
      "  Downloading nbformat-5.9.0-py3-none-any.whl (77 kB)\n",
      "     ---------------------------------------- 77.6/77.6 kB 2.1 MB/s eta 0:00:00\n",
      "Collecting fastjsonschema (from nbformat)\n",
      "  Downloading fastjsonschema-2.17.1-py3-none-any.whl (23 kB)\n",
      "Collecting jsonschema>=2.6 (from nbformat)\n",
      "  Downloading jsonschema-4.17.3-py3-none-any.whl (90 kB)\n",
      "     ---------------------------------------- 90.4/90.4 kB 5.0 MB/s eta 0:00:00\n",
      "Requirement already satisfied: jupyter-core in c:\\users\\pc\\appdata\\local\\programs\\python\\python38\\lib\\site-packages (from nbformat) (4.10.0)\n",
      "Requirement already satisfied: traitlets>=5.1 in c:\\users\\pc\\appdata\\local\\programs\\python\\python38\\lib\\site-packages (from nbformat) (5.2.0)\n",
      "Collecting attrs>=17.4.0 (from jsonschema>=2.6->nbformat)\n",
      "  Downloading attrs-23.1.0-py3-none-any.whl (61 kB)\n",
      "     ---------------------------------------- 61.2/61.2 kB ? eta 0:00:00\n",
      "Collecting importlib-resources>=1.4.0 (from jsonschema>=2.6->nbformat)\n",
      "  Downloading importlib_resources-5.12.0-py3-none-any.whl (36 kB)\n",
      "Collecting pkgutil-resolve-name>=1.3.10 (from jsonschema>=2.6->nbformat)\n",
      "  Downloading pkgutil_resolve_name-1.3.10-py3-none-any.whl (4.7 kB)\n",
      "Collecting pyrsistent!=0.17.0,!=0.17.1,!=0.17.2,>=0.14.0 (from jsonschema>=2.6->nbformat)\n",
      "  Downloading pyrsistent-0.19.3-cp38-cp38-win_amd64.whl (62 kB)\n",
      "     ---------------------------------------- 62.7/62.7 kB 3.3 MB/s eta 0:00:00\n",
      "Requirement already satisfied: pywin32>=1.0 in c:\\users\\pc\\appdata\\local\\programs\\python\\python38\\lib\\site-packages (from jupyter-core->nbformat) (304)\n",
      "Requirement already satisfied: zipp>=3.1.0 in c:\\users\\pc\\appdata\\local\\programs\\python\\python38\\lib\\site-packages (from importlib-resources>=1.4.0->jsonschema>=2.6->nbformat) (3.8.0)\n",
      "Installing collected packages: fastjsonschema, pyrsistent, pkgutil-resolve-name, importlib-resources, attrs, jsonschema, nbformat\n",
      "Successfully installed attrs-23.1.0 fastjsonschema-2.17.1 importlib-resources-5.12.0 jsonschema-4.17.3 nbformat-5.9.0 pkgutil-resolve-name-1.3.10 pyrsistent-0.19.3\n",
      "Note: you may need to restart the kernel to use updated packages.\n"
     ]
    },
    {
     "name": "stderr",
     "output_type": "stream",
     "text": [
      "  WARNING: The script jsonschema.exe is installed in 'c:\\Users\\Pc\\AppData\\Local\\Programs\\Python\\Python38\\Scripts' which is not on PATH.\n",
      "  Consider adding this directory to PATH or, if you prefer to suppress this warning, use --no-warn-script-location.\n",
      "  WARNING: The script jupyter-trust.exe is installed in 'c:\\Users\\Pc\\AppData\\Local\\Programs\\Python\\Python38\\Scripts' which is not on PATH.\n",
      "  Consider adding this directory to PATH or, if you prefer to suppress this warning, use --no-warn-script-location.\n"
     ]
    }
   ],
   "source": [
    "%pip install git+https://github.com/smazzanti/confusion_viz\n",
    "%pip install --upgrade nbformat"
   ]
  },
  {
   "cell_type": "code",
   "execution_count": 15,
   "metadata": {},
   "outputs": [],
   "source": [
    "import pandas as pd\n",
    "from sklearn.linear_model import LogisticRegression\n",
    "from sklearn.feature_selection import SelectKBest\n",
    "from sklearn.feature_selection import mutual_info_classif,f_classif\n",
    "import numpy as np\n",
    "from sklearn.model_selection import train_test_split\n",
    "from sklearn.model_selection import GridSearchCV\n",
    "from sklearn.metrics import ConfusionMatrixDisplay\n",
    "from sklearn.model_selection import KFold\n",
    "from sklearn.pipeline import Pipeline\n",
    "from sklearn import linear_model, decomposition\n",
    "from sklearn.pipeline import Pipeline\n",
    "from sklearn.model_selection import GridSearchCV\n",
    "from sklearn.preprocessing import StandardScaler\n",
    "from sklearn.utils import resample\n",
    "import warnings\n",
    "warnings.filterwarnings(\"ignore\")"
   ]
  },
  {
   "cell_type": "code",
   "execution_count": 5,
   "metadata": {},
   "outputs": [],
   "source": [
    "radiomic_features_df = pd.read_table('Data\\clinical_radiomics.tsv')"
   ]
  },
  {
   "cell_type": "code",
   "execution_count": 6,
   "metadata": {},
   "outputs": [],
   "source": [
    "#Clean up\n",
    "radiomic_features_df = radiomic_features_df[radiomic_features_df.OS_cens == '0']\n",
    "\n",
    "radiomic_features_df[\"OS_result\"] = radiomic_features_df[\"OS\"] > radiomic_features_df[\"OS\"].median() if 'long' else 'short'\n",
    "radiomic_features_df = radiomic_features_df.drop(columns=[\"Image\",\"Mask\",\"type\",\"CT_drugs\",\"Treatment\", \"intent\", \"Metastasis_location\", \n",
    "                                                          \"diagnostics_Versions_PyRadiomics\",\"diagnostics_Versions_Numpy\",\n",
    "                                                          \"diagnostics_Versions_SimpleITK\",\"diagnostics_Versions_PyWavelet\",\n",
    "                                                          \"diagnostics_Versions_Python\",\"diagnostics_Configuration_Settings\",\"diagnostics_Configuration_EnabledImageTypes\",\n",
    "                                                          \"diagnostics_Image.original_Hash\", \"diagnostics_Image.original_Dimensionality\", \"diagnostics_Image.original_Spacing\",\n",
    "                                                          \"diagnostics_Image.original_Minimum\", \"OS_cens\",\"diagnostics_Image.original_Minimum\", \"OS\", \"diagnostics_Mask.original_Hash\",\n",
    "                                                          \"diagnostics_Mask.original_Spacing\", \"diagnostics_Mask.original_BoundingBox\",\t\"diagnostics_Mask.original_VoxelNum\", \"N\",\n",
    "                                                          \"diagnostics_Mask.original_Size\",  \"diagnostics_Image.original_Size\", \"diagnostics_Mask.original_CenterOfMassIndex\",\t\"diagnostics_Mask.original_CenterOfMass\",\n",
    "                                                          \"CT_effect\", \"zubrod_score\", \"T\", \"HT\", \"PLT\", \"RBC\", \"WBC\", \"ID\", \"MFS\",\"MFS_cens\",\"CT_cycles\", \"histopathology\", \"location\",\n",
    "                                                           \"MIP\",\"RT_fractional_dose\", \"HB\"])\n"
   ]
  },
  {
   "cell_type": "code",
   "execution_count": 34,
   "metadata": {},
   "outputs": [
    {
     "name": "stdout",
     "output_type": "stream",
     "text": [
      "                                   Specs     Score\n",
      "0                                    age -0.177696\n",
      "1                          RT_total_dose -0.777211\n",
      "2        diagnostics_Image.original_Mean  0.007484\n",
      "3     diagnostics_Image.original_Maximum -0.777211\n",
      "4    diagnostics_Mask.original_VolumeNum -0.777211\n",
      "..                                   ...       ...\n",
      "107            original_ngtdm_Complexity -0.662917\n",
      "108              original_ngtdm_Contrast  1.452005\n",
      "109              original_ngtdm_Strength -0.495973\n",
      "110                               FEMALE -0.777211\n",
      "111                                 MALE -0.763502\n",
      "\n",
      "[112 rows x 2 columns]\n"
     ]
    }
   ],
   "source": [
    "X = radiomic_features_df.loc[:,radiomic_features_df.columns != \"OS_result\"]  #independent columns\n",
    "y = radiomic_features_df.loc[:,radiomic_features_df.columns == \"OS_result\"]    #target column i.e price range\n",
    "\n",
    "df1 = pd.get_dummies(X['sex'])\n",
    "X = pd.concat([X, df1], axis=1).reindex(X.index)\n",
    "X.drop('sex', axis=1, inplace=True)\n",
    "std_slc = StandardScaler()\n",
    "\n",
    "y = np.ravel(y)\n",
    "bestfeatures = SelectKBest(score_func=mutual_info_classif, k=15)\n",
    "fit = bestfeatures.fit(X,y)\n",
    "dfscores = pd.DataFrame(fit.scores_)\n",
    "dfcolumns = pd.DataFrame(X.columns)\n",
    "\n",
    "data = pd.DataFrame(std_slc.fit_transform(dfscores), columns=dfscores.columns, index=dfscores.index)\n",
    "featureScores = pd.concat([dfcolumns,data],axis=1)\n",
    "featureScores.columns = ['Specs','Score'] \n",
    "print(featureScores)\n",
    "#featureScores = featureScores. = ['Specs','Score']  #naming the dataframe columns"
   ]
  },
  {
   "cell_type": "code",
   "execution_count": 35,
   "metadata": {},
   "outputs": [
    {
     "name": "stdout",
     "output_type": "stream",
     "text": [
      "                                                 Specs     Score\n",
      "50                                  original_glcm_Imc2  2.832601\n",
      "28                          original_firstorder_Median  2.278405\n",
      "67                           original_glrlm_RunEntropy  2.258447\n",
      "32                 original_firstorder_RootMeanSquared  2.212316\n",
      "86       original_glszm_SmallAreaHighGrayLevelEmphasis  2.197341\n",
      "44                     original_glcm_DifferenceAverage  2.174305\n",
      "51                                   original_glcm_Idm  2.138148\n",
      "29                         original_firstorder_Minimum  1.837654\n",
      "103  original_gldm_SmallDependenceHighGrayLevelEmph...  1.801060\n",
      "43                           original_glcm_Correlation  1.793438\n",
      "40                          original_glcm_ClusterShade  1.683216\n",
      "15                           original_shape_Sphericity  1.602423\n",
      "42                              original_glcm_Contrast  1.475036\n",
      "108                            original_ngtdm_Contrast  1.452005\n",
      "16                          original_shape_SurfaceArea  1.392790\n",
      "97                 original_gldm_HighGrayLevelEmphasis  1.252021\n",
      "49                                  original_glcm_Imc1  1.222452\n",
      "27                            original_firstorder_Mean  1.212508\n",
      "54                                   original_glcm_Idn  1.183699\n",
      "64         original_glrlm_LongRunHighGrayLevelEmphasis  1.164471\n",
      "91                     original_gldm_DependenceEntropy  1.149256\n",
      "53                                    original_glcm_Id  1.028026\n",
      "76     original_glszm_GrayLevelNonUniformityNormalized  1.008243\n",
      "98               original_gldm_LargeDependenceEmphasis  0.996474\n",
      "74         original_glrlm_ShortRunLowGrayLevelEmphasis  0.884787\n"
     ]
    }
   ],
   "source": [
    "\n",
    "features = featureScores.nlargest(15,'Score')['Specs']\n",
    "print(featureScores.nlargest(25,'Score'))\n",
    "five_first_features = X[features [:5]] #first 5 features\n",
    "five_ten_features = X[features [:10]] #first 10 features\n",
    "fifteen_features = X[features] #15 features"
   ]
  },
  {
   "cell_type": "code",
   "execution_count": 54,
   "metadata": {},
   "outputs": [
    {
     "name": "stdout",
     "output_type": "stream",
     "text": [
      "\n",
      "5 features\n",
      "[[0.25819972 0.74180028]\n",
      " [0.40886047 0.59113953]\n",
      " [0.32422944 0.67577056]]\n",
      "0.7054545454545454 {'logistic_Reg__C': 51.79474679231202, 'logistic_Reg__penalty': 'l2', 'pca__n_components': 5}\n",
      "[ True  True  True False  True  True  True  True False False False  True\n",
      "  True  True False  True  True  True  True  True  True  True  True]\n",
      "\n",
      "\n"
     ]
    },
    {
     "data": {
      "text/plain": [
       "Text(0.5, 1.0, 'Results')"
      ]
     },
     "execution_count": 54,
     "metadata": {},
     "output_type": "execute_result"
    },
    {
     "data": {
      "image/png": "[encoded data removed]",
      "text/plain": [
       "<Figure size 432x288 with 2 Axes>"
      ]
     },
     "metadata": {
      "needs_background": "light"
     },
     "output_type": "display_data"
    }
   ],
   "source": [
    "print(\"\\n5 features\")\n",
    "X_train,X_test,y_train,y_test = train_test_split(five_first_features,y,test_size = 0.3, random_state = 0)\n",
    "pca = decomposition.PCA()\n",
    "std_slc = StandardScaler()\n",
    "model = LogisticRegression()\n",
    "pipe = Pipeline(steps=[('std_slc', std_slc),\n",
    "                           ('pca', pca),\n",
    "                           ('logistic_Reg', model)])\n",
    "\n",
    "cv = KFold(n_splits=10,shuffle=True)\n",
    "C = np.logspace(-4, 4, 50)\n",
    "penalty = ['l1', 'l2']\n",
    "n_components = list(range(1,X.shape[1]+1,1))\n",
    "parameters = dict(pca__n_components=n_components,\n",
    "                      logistic_Reg__C=C,\n",
    "                      logistic_Reg__penalty=penalty)\n",
    "grid_search = GridSearchCV(pipe, parameters)\n",
    "\n",
    "grid_search.fit(X_train, y_train)\n",
    "predicted_probs =grid_search.predict_proba(X_test)\n",
    "print(predicted_probs[0:3])\n",
    "print (grid_search.best_score_, grid_search.best_params_) \n",
    "y_pred = grid_search.predict(X_test)\n",
    "print(y_pred)\n",
    "print('\\n')\n",
    "disp = ConfusionMatrixDisplay.from_predictions(\n",
    "       y_test,y_pred,display_labels=[\"long\",\"short\"]\n",
    "    )\n",
    "disp.ax_.set_title(\"Results\")"
   ]
  },
  {
   "cell_type": "code",
   "execution_count": 55,
   "metadata": {},
   "outputs": [
    {
     "name": "stdout",
     "output_type": "stream",
     "text": [
      "\n",
      "10 features\n",
      "[[0.66055055 0.33944945]\n",
      " [0.55739654 0.44260346]\n",
      " [0.2986648  0.7013352 ]]\n",
      "0.6836363636363637 {'logistic_Reg__C': 51.79474679231202, 'logistic_Reg__penalty': 'l2', 'pca__n_components': 8}\n",
      "[False False  True False  True False  True False False False False False\n",
      "  True False  True False  True  True  True False  True False  True]\n",
      "\n",
      "\n"
     ]
    },
    {
     "data": {
      "text/plain": [
       "Text(0.5, 1.0, 'Results')"
      ]
     },
     "execution_count": 55,
     "metadata": {},
     "output_type": "execute_result"
    },
    {
     "data": {
      "image/png": "[encoded data removed]",
      "text/plain": [
       "<Figure size 432x288 with 2 Axes>"
      ]
     },
     "metadata": {
      "needs_background": "light"
     },
     "output_type": "display_data"
    }
   ],
   "source": [
    "print(\"\\n10 features\")\n",
    "X_train,X_test,y_train,y_test = train_test_split(five_ten_features,y,test_size = 0.3, random_state = 0)\n",
    "pca = decomposition.PCA()\n",
    "std_slc = StandardScaler()\n",
    "model = LogisticRegression()\n",
    "pipe = Pipeline(steps=[('std_slc', std_slc),\n",
    "                           ('pca', pca),\n",
    "                           ('logistic_Reg', model)])\n",
    "\n",
    "cv = KFold(n_splits=4,shuffle=True)\n",
    "C = np.logspace(-4, 4, 50)\n",
    "penalty = ['l1', 'l2']\n",
    "n_components = list(range(1,X.shape[1]+1,1))\n",
    "parameters = dict(pca__n_components=n_components,\n",
    "                      logistic_Reg__C=C,\n",
    "                      logistic_Reg__penalty=penalty)\n",
    "grid_search = GridSearchCV(pipe, parameters)\n",
    "\n",
    "grid_search.fit(X_train, y_train)\n",
    "predicted_probs =grid_search.predict_proba(X_test)\n",
    "print(predicted_probs[0:3])\n",
    "print (grid_search.best_score_, grid_search.best_params_) \n",
    "y_pred = grid_search.predict(X_test)\n",
    "print(y_pred)\n",
    "print('\\n')\n",
    "disp = ConfusionMatrixDisplay.from_predictions(\n",
    "       y_test,y_pred,display_labels=[\"long\",\"short\"]\n",
    "    )\n",
    "disp.ax_.set_title(\"Results\")"
   ]
  },
  {
   "cell_type": "code",
   "execution_count": 56,
   "metadata": {},
   "outputs": [
    {
     "name": "stdout",
     "output_type": "stream",
     "text": [
      "\n",
      "15 features\n",
      "[[0.16484218 0.83515782]\n",
      " [0.28438917 0.71561083]\n",
      " [0.25317258 0.74682742]]\n",
      "0.6854545454545455 {'logistic_Reg__C': 24.420530945486497, 'logistic_Reg__penalty': 'l2', 'pca__n_components': 9}\n",
      "[ True  True  True False  True  True  True  True False False False False\n",
      "  True False  True  True  True  True  True  True  True  True  True]\n",
      "\n",
      "\n"
     ]
    },
    {
     "data": {
      "text/plain": [
       "Text(0.5, 1.0, 'Results')"
      ]
     },
     "execution_count": 56,
     "metadata": {},
     "output_type": "execute_result"
    },
    {
     "data": {
      "image/png": "[encoded data removed]",
      "text/plain": [
       "<Figure size 432x288 with 2 Axes>"
      ]
     },
     "metadata": {
      "needs_background": "light"
     },
     "output_type": "display_data"
    }
   ],
   "source": [
    "print(\"\\n15 features\")\n",
    "X_train,X_test,y_train,y_test = train_test_split(fifteen_features,y,test_size = 0.3, random_state = 0)\n",
    "pca = decomposition.PCA()\n",
    "std_slc = StandardScaler()\n",
    "model = LogisticRegression()\n",
    "pipe = Pipeline(steps=[('std_slc', std_slc),\n",
    "                           ('pca', pca),\n",
    "                           ('logistic_Reg', model)])\n",
    "\n",
    "cv = KFold(n_splits=4,shuffle=True)\n",
    "C = np.logspace(-4, 4, 50)\n",
    "penalty = ['l1', 'l2']\n",
    "n_components = list(range(1,X.shape[1]+1,1))\n",
    "parameters = dict(pca__n_components=n_components,\n",
    "                      logistic_Reg__C=C,\n",
    "                      logistic_Reg__penalty=penalty)\n",
    "grid_search = GridSearchCV(pipe, parameters)\n",
    "\n",
    "grid_search.fit(X_train, y_train)\n",
    "predicted_probs =grid_search.predict_proba(X_test)\n",
    "print(predicted_probs[0:3])\n",
    "print (grid_search.best_score_, grid_search.best_params_) \n",
    "y_pred = grid_search.predict(X_test)\n",
    "print(y_pred)\n",
    "print('\\n')\n",
    "disp = ConfusionMatrixDisplay.from_predictions(\n",
    "       y_test,y_pred,display_labels=[\"long\",\"short\"]\n",
    "    )\n",
    "disp.ax_.set_title(\"Results\")"
   ]
  },
  {
   "cell_type": "code",
   "execution_count": 42,
   "metadata": {},
   "outputs": [
    {
     "name": "stdout",
     "output_type": "stream",
     "text": [
      "[[0.55746244 0.44253756]\n",
      " [0.50149776 0.49850224]\n",
      " [0.45991442 0.54008558]]\n",
      "0.7109090909090909 {'logistic_Reg__C': 0.0009540954763499944, 'logistic_Reg__penalty': 'l2', 'pca__n_components': 6}\n",
      "[False False  True False False False False False False False  True  True\n",
      "  True  True False False False False False False  True  True False]\n",
      "\n",
      "\n"
     ]
    },
    {
     "data": {
      "text/plain": [
       "Text(0.5, 1.0, 'Results')"
      ]
     },
     "execution_count": 42,
     "metadata": {},
     "output_type": "execute_result"
    },
    {
     "data": {
      "image/png": "[encoded data removed]",
      "text/plain": [
       "<Figure size 432x288 with 2 Axes>"
      ]
     },
     "metadata": {
      "needs_background": "light"
     },
     "output_type": "display_data"
    }
   ],
   "source": [
    "from sklearn.datasets import make_classification\n",
    "from sklearn.model_selection import KFold\n",
    "from sklearn.pipeline import Pipeline\n",
    "from sklearn import linear_model, decomposition, datasets\n",
    "from sklearn.pipeline import Pipeline\n",
    "from sklearn.model_selection import GridSearchCV\n",
    "from sklearn.preprocessing import StandardScaler\n",
    "from sklearn.utils import resample\n",
    "\n",
    "X = radiomic_features_df.loc[:,radiomic_features_df.columns != \"OS_result\"]  #independent columns\n",
    "y = radiomic_features_df.loc[:,radiomic_features_df.columns == \"OS_result\"]  #target column i.e price range\n",
    "df1 = pd.get_dummies(X['sex'])\n",
    "X = pd.concat([X, df1], axis=1).reindex(X.index)\n",
    "X.drop('sex', axis=1, inplace=True)\n",
    "X_train,X_test,y_train,y_test = train_test_split(X,y,random_state=33,test_size=0.3)\n",
    "pca = decomposition.PCA()\n",
    "std_slc = StandardScaler()\n",
    "model = LogisticRegression()\n",
    "pipe = Pipeline(steps=[('std_slc', std_slc),\n",
    "                           ('pca', pca),\n",
    "                           ('logistic_Reg', model)])\n",
    "\n",
    "cv = KFold(n_splits=4,shuffle=True)\n",
    "C = np.logspace(-4, 4, 50)\n",
    "penalty = ['l1', 'l2']\n",
    "n_components = list(range(1,X.shape[1]+1,1))\n",
    "parameters = dict(pca__n_components=n_components,\n",
    "                      logistic_Reg__C=C,\n",
    "                      logistic_Reg__penalty=penalty)\n",
    "grid_search = GridSearchCV(pipe, parameters)\n",
    "\n",
    "grid_search.fit(X_train, y_train)\n",
    "predicted_probs =grid_search.predict_proba(X_test)\n",
    "print(predicted_probs[0:3])\n",
    "print (grid_search.best_score_, grid_search.best_params_) \n",
    "y_pred = grid_search.predict(X_test)\n",
    "print(y_pred)\n",
    "print('\\n')\n",
    "disp = ConfusionMatrixDisplay.from_predictions(\n",
    "       y_test,y_pred,display_labels=[\"long\",\"short\"]\n",
    "    )\n",
    "disp.ax_.set_title(\"Results\")"
   ]
  }
 ],
 "metadata": {
  "kernelspec": {
   "display_name": "Python 3",
   "language": "python",
   "name": "python3"
  },
  "language_info": {
   "codemirror_mode": {
    "name": "ipython",
    "version": 3
   },
   "file_extension": ".py",
   "mimetype": "text/x-python",
   "name": "python",
   "nbconvert_exporter": "python",
   "pygments_lexer": "ipython3",
   "version": "3.8.5"
  },
  "orig_nbformat": 4
 },
 "nbformat": 4,
 "nbformat_minor": 2
}
